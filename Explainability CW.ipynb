{
 "cells": [
  {
   "cell_type": "markdown",
   "id": "b4907a9b-7f61-4e03-a118-3ca33156b516",
   "metadata": {},
   "source": [
    "# Ethics, Fairness and Explanation in AI Coursework"
   ]
  },
  {
   "cell_type": "markdown",
   "id": "18977034-9183-47c7-993e-9b105ebaf8bc",
   "metadata": {},
   "source": [
    "Your goal in this coursework is to implement and experiment with various explainability approaches in order to better understand the behaviour of a neural model applied to the Titanic dataset. As you will have a chance to observe, the dataset reflects some of the past social conventions and biases, which also affect the trained model. Explanations can serve as very useful tools for identifying such potential issues and gaining insight into the internal reasoning of machine learning systems."
   ]
  },
  {
   "cell_type": "markdown",
   "id": "4c54e2fe-cc8f-4b0d-852a-474e43b5b060",
   "metadata": {},
   "source": [
    "## Data Loading and Preprocessing"
   ]
  },
  {
   "cell_type": "markdown",
   "id": "4f683e86-6c7d-4ce1-9cc9-a3ec171824d8",
   "metadata": {},
   "source": [
    "We start by defining some helpful utility functions for data preprocessing. You will probably not need to change this code."
   ]
  },
  {
   "cell_type": "code",
   "execution_count": 37,
   "id": "e3853c0d-4ab5-41dc-a409-ef3b7dab0911",
   "metadata": {},
   "outputs": [],
   "source": [
    "import numpy as np\n",
    "import pandas as pd\n",
    "import warnings\n",
    "\n",
    "from sklearn.compose import ColumnTransformer\n",
    "from sklearn.pipeline import Pipeline\n",
    "from sklearn.preprocessing import RobustScaler, OneHotEncoder\n",
    "from sklearn.utils import resample\n",
    "\n",
    "\n",
    "class InvertibleColumnTransformer(ColumnTransformer):\n",
    "    \"\"\"\n",
    "    This is an invertible version of a ColumnTransformer from sklearn.\n",
    "    This allows us to recover the original feature values from their normalised\n",
    "    versions in order to better understand the produced explanations.\n",
    "    \"\"\"\n",
    "    def inverse_transform(self, X):\n",
    "        if X.ndim == 1:\n",
    "            X = np.expand_dims(X, axis=0)\n",
    "        if X.shape[1] != len(self.get_feature_names_out()):\n",
    "            raise ValueError(\n",
    "                \"X and the fitted transformer have different numbers of columns\"\n",
    "            )\n",
    "\n",
    "        inverted_X_base = np.zeros((X.shape[0], self.n_features_in_))\n",
    "        columns = [c for cs in self._columns for c in cs]\n",
    "        inverted_X = pd.DataFrame(data=inverted_X_base, columns=columns)\n",
    "        inverted_X = inverted_X.astype('object')\n",
    "        for name, indices in self.output_indices_.items():\n",
    "            transformer = self.named_transformers_.get(name, None)\n",
    "            if transformer is None:\n",
    "                continue\n",
    "\n",
    "            selected_X = X[:, indices.start : indices.stop]\n",
    "            if isinstance(transformer, OneHotEncoder):\n",
    "                # Assumed only one column changing encoder at the end\n",
    "                categories = transformer.inverse_transform(selected_X)\n",
    "                inverted_X.loc[\n",
    "                    :, columns[indices.start : indices.start + len(categories[0])]\n",
    "                ] = categories\n",
    "            else:\n",
    "                # Assumed scaler-type transformer\n",
    "                inverted_X.loc[\n",
    "                    :, [columns[i] for i in range(indices.start, indices.stop)]\n",
    "                ] = transformer.inverse_transform(selected_X)\n",
    "\n",
    "        return inverted_X\n",
    "\n",
    "\n",
    "def preprocess_train_data(\n",
    "    df,\n",
    "    scaled_features=None,\n",
    "    categorical_features=None,\n",
    "    scaler=RobustScaler(quantile_range=(10, 90)),\n",
    "    categorical_encoder=OneHotEncoder(handle_unknown=\"ignore\"),\n",
    "):\n",
    "    \"\"\"\n",
    "    Scales the continuous features using a RobustScaler and one-hot encodes\n",
    "    the categorical features.\n",
    "    \"\"\"\n",
    "    if scaled_features is None and categorical_features is None:\n",
    "        warnings.warn(\"No features specified for preprocessing, using raw data.\")\n",
    "        scaled_features = []\n",
    "        categorical_features = []\n",
    "    elif scaled_features is None:\n",
    "        scaled_features = [c for c in df.columns if c not in categorical_features]\n",
    "    elif categorical_features is None:\n",
    "        categorical_features = [c for c in df.columns if c not in scaled_features]\n",
    "\n",
    "    preprocessor = InvertibleColumnTransformer(\n",
    "        transformers=[\n",
    "            (\"num\", scaler, scaled_features),\n",
    "            (\"cat\", categorical_encoder, categorical_features),\n",
    "        ],\n",
    "        remainder=\"passthrough\",\n",
    "    )\n",
    "\n",
    "    preprocessed_df = preprocessor.fit_transform(df)\n",
    "    return preprocessed_df, preprocessor\n",
    "\n",
    "\n",
    "def preprocess_test_data(df, preprocessor):\n",
    "    preprocessed_df = preprocessor.transform(df)\n",
    "    return preprocessed_df"
   ]
  },
  {
   "cell_type": "markdown",
   "id": "df35c3a2-09c0-4a14-9f83-e81db1d544a1",
   "metadata": {},
   "source": [
    "Here, we define a class for the Titanic dataset, which we will be using throughout the coursework."
   ]
  },
  {
   "cell_type": "code",
   "execution_count": 38,
   "id": "22f7f44d-1cbe-4e25-9f7c-7bbe8c2d4cc6",
   "metadata": {},
   "outputs": [],
   "source": [
    "import os\n",
    "import pandas as pd\n",
    "import torch\n",
    "\n",
    "from sklearn.model_selection import train_test_split\n",
    "from torch.utils.data import Dataset, DataLoader\n",
    "\n",
    "\n",
    "class TitanicDataset(Dataset):\n",
    "    \"\"\"\n",
    "    Loads and preprocesses the Titanic dataset.\n",
    "    \"\"\"\n",
    "    __create_key = object()\n",
    "\n",
    "    @classmethod\n",
    "    def create_datasets(\n",
    "        cls,\n",
    "        label_name=\"survived\",\n",
    "        split_seed=42,\n",
    "        test_size=0.2,\n",
    "    ):\n",
    "        train_dataset = TitanicDataset(\n",
    "            cls.__create_key,\n",
    "            label_name=label_name,\n",
    "            split_seed=split_seed,\n",
    "            test_size=test_size,\n",
    "            train=True,\n",
    "        )\n",
    "        test_dataset = TitanicDataset(\n",
    "            cls.__create_key,\n",
    "            label_name=label_name,\n",
    "            split_seed=split_seed,\n",
    "            test_size=test_size,\n",
    "            train=False,\n",
    "        )\n",
    "        return train_dataset, test_dataset\n",
    "\n",
    "    def __init__(\n",
    "        self,\n",
    "        create_key=None,\n",
    "        label_name=\"Survived\",\n",
    "        split_seed=42,\n",
    "        test_size=0.2,\n",
    "        train=True,\n",
    "    ):\n",
    "        # Ensure that the dataset is being constructed properly\n",
    "        if create_key != TitanicDataset.__create_key:\n",
    "            raise ValueError(\n",
    "                \"Illegal initialisation attempt — please use create_datasets to initialise.\"\n",
    "            )\n",
    "\n",
    "        try:\n",
    "            data_df = pd.read_csv(\"titanic-dataset.csv\")\n",
    "        except FileNotFoundError:\n",
    "            raise FileNotFoundError(\"Titanic data file not found.\")\n",
    "\n",
    "        # Split the dataset into train and test\n",
    "        x = data_df.drop(columns=[label_name, \"name\", \"ticket\", \"cabin\", \"embarked\", \"boat\", \"body\", \"home.dest\"])\n",
    "        # For the purposes of this coursework, we just impute the missing age and fare with a median value\n",
    "        x[['age']] = x[['age']].fillna(x[['age']].median())\n",
    "        x[['fare']] = x[['fare']].fillna(x[['fare']].median())\n",
    "        y = data_df[label_name]\n",
    "        x_train, x_test, y_train, y_test = train_test_split(\n",
    "            x, y, test_size=test_size, random_state=split_seed, shuffle=True\n",
    "        )\n",
    "        if train:\n",
    "            self.raw_data = x_train, y_train\n",
    "        else:\n",
    "            self.raw_data = x_test, y_test\n",
    "\n",
    "        # Preprocess the data\n",
    "        x_train_processed, preprocessor = preprocess_train_data(\n",
    "            x_train, categorical_features=[\"sex\"]\n",
    "        )\n",
    "        x_train = pd.DataFrame(\n",
    "            x_train_processed, columns=preprocessor.get_feature_names_out()\n",
    "        )\n",
    "        x_test_processed = preprocess_test_data(x_test, preprocessor)\n",
    "        x_test = pd.DataFrame(\n",
    "            x_test_processed, columns=preprocessor.get_feature_names_out()\n",
    "        )\n",
    "\n",
    "        # Select data partition and convert to tensors\n",
    "        if train:\n",
    "            samples = x_train\n",
    "            labels = y_train\n",
    "        else:\n",
    "            samples = x_test\n",
    "            labels = y_test\n",
    "        self.samples = torch.tensor(samples.to_numpy(), dtype=torch.float32)\n",
    "        self.labels = torch.tensor(labels.to_numpy(), dtype=torch.long)\n",
    "        self.features = preprocessor.get_feature_names_out()\n",
    "        self.preprocessor = preprocessor\n",
    "\n",
    "    def __len__(self):\n",
    "        return len(self.samples)\n",
    "\n",
    "    def __getitem__(self, idx):\n",
    "        return self.samples[idx], self.labels[idx]"
   ]
  },
  {
   "cell_type": "markdown",
   "id": "c00c7c1f-81f5-4806-ad20-358a79df93e6",
   "metadata": {},
   "source": [
    "Finally, we call the code above to load and preprocess the data."
   ]
  },
  {
   "cell_type": "code",
   "execution_count": 39,
   "id": "2ae2d1e0-ddab-419b-b741-6d4d6b531bb8",
   "metadata": {},
   "outputs": [],
   "source": [
    "train_dataset, test_dataset = TitanicDataset.create_datasets(\n",
    "    test_size=0.2,\n",
    "    split_seed=42,\n",
    ")\n",
    "train_dl = DataLoader(\n",
    "    dataset=train_dataset,\n",
    "    batch_size=128,\n",
    "    shuffle=False,\n",
    ")\n",
    "test_dl = DataLoader(\n",
    "    dataset=test_dataset,\n",
    "    batch_size=64,\n",
    "    shuffle=False,\n",
    ")"
   ]
  },
  {
   "cell_type": "markdown",
   "id": "a4283a2e-986b-4554-89e3-3a0c4c152cbb",
   "metadata": {},
   "source": [
    "Note that the invertible transformer allows you to recover the original (unnormalised) feature values, as shown on the example below. You may find this helpful for understanding the produced explanations and commenting on them in your report."
   ]
  },
  {
   "cell_type": "code",
   "execution_count": 40,
   "id": "88f85249-8c4b-46b0-a856-76c972f524e2",
   "metadata": {},
   "outputs": [
    {
     "data": {
      "text/html": [
       "<div>\n",
       "<style scoped>\n",
       "    .dataframe tbody tr th:only-of-type {\n",
       "        vertical-align: middle;\n",
       "    }\n",
       "\n",
       "    .dataframe tbody tr th {\n",
       "        vertical-align: top;\n",
       "    }\n",
       "\n",
       "    .dataframe thead th {\n",
       "        text-align: right;\n",
       "    }\n",
       "</style>\n",
       "<table border=\"1\" class=\"dataframe\">\n",
       "  <thead>\n",
       "    <tr style=\"text-align: right;\">\n",
       "      <th></th>\n",
       "      <th>pclass</th>\n",
       "      <th>age</th>\n",
       "      <th>sibsp</th>\n",
       "      <th>parch</th>\n",
       "      <th>fare</th>\n",
       "      <th>sex</th>\n",
       "    </tr>\n",
       "  </thead>\n",
       "  <tbody>\n",
       "    <tr>\n",
       "      <th>0</th>\n",
       "      <td>3.0</td>\n",
       "      <td>35.0</td>\n",
       "      <td>0.0</td>\n",
       "      <td>0.0</td>\n",
       "      <td>7.125</td>\n",
       "      <td>male</td>\n",
       "    </tr>\n",
       "  </tbody>\n",
       "</table>\n",
       "</div>"
      ],
      "text/plain": [
       "  pclass   age sibsp parch   fare   sex\n",
       "0    3.0  35.0   0.0   0.0  7.125  male"
      ]
     },
     "execution_count": 40,
     "metadata": {},
     "output_type": "execute_result"
    }
   ],
   "source": [
    "test_dataset.preprocessor.inverse_transform(test_dataset.samples[0])"
   ]
  },
  {
   "cell_type": "markdown",
   "id": "441756a7-f828-4764-af69-4eb84b63a975",
   "metadata": {},
   "source": [
    "## Exploratory Data Analysis"
   ]
  },
  {
   "cell_type": "markdown",
   "id": "93538903-f8cc-4f39-9593-f0ee82096b75",
   "metadata": {},
   "source": [
    "When faced with a new dataset, it is a good practice to perform an exploratory data analysis in order to understand the basic trends in the data. This will also allow you to put the explanations you obtain as part of this coursework into the relevant context. We will use the raw, unnormalised features for this purpose, as they are much more intuitive and human-understandable."
   ]
  },
  {
   "cell_type": "code",
   "execution_count": 41,
   "id": "a82a5efb-2ce7-4428-a03f-ee0f61f6dca0",
   "metadata": {},
   "outputs": [],
   "source": [
    "x_train, y_train = train_dataset.raw_data\n",
    "x_train['survived'] = y_train\n",
    "data_df = x_train"
   ]
  },
  {
   "cell_type": "markdown",
   "id": "bdf759d8-e225-4482-a8ba-93d0a604d32e",
   "metadata": {},
   "source": [
    "We start by displaying the feature values and labels for a few samples. The dataset contains data regarding the survival of some of the passengers involved in the [Titanic maritime disaster](https://en.wikipedia.org/wiki/Sinking_of_the_Titanic). The features contained in the data are as follows:\n",
    "* `pclass`: Indicates the travelling class of the given passenger. Note that we treat this feature as numerical, as the different classes introduce a natural order.\n",
    "* `sex`: Indicates the sex of the passenger.\n",
    "* `age`: Provides the age of the passenger.\n",
    "* `sibsp`: Denotes the total number of siblings and spouses of the given passenger also travelling on RMS Titanic.\n",
    "* `parch`: Denotes the total number of parents or children of the given passenger also travelling on RMS Titanic.\n",
    "* `fare`: Indicates the fare paid by the passenger for the journey.\n",
    "* `survived`: The label indicating whether the patient survived the accident (1 = survived, 0 = did not survive).\n",
    "\n",
    "There are other features included in the original dataset (such aspassenger name or point of embarkation), but we choose to ignore them for the purposes of this coursework."
   ]
  },
  {
   "cell_type": "code",
   "execution_count": 42,
   "id": "9bc9b42a-9f57-4502-8d00-9fda6bdb34cf",
   "metadata": {},
   "outputs": [
    {
     "data": {
      "text/html": [
       "<div>\n",
       "<style scoped>\n",
       "    .dataframe tbody tr th:only-of-type {\n",
       "        vertical-align: middle;\n",
       "    }\n",
       "\n",
       "    .dataframe tbody tr th {\n",
       "        vertical-align: top;\n",
       "    }\n",
       "\n",
       "    .dataframe thead th {\n",
       "        text-align: right;\n",
       "    }\n",
       "</style>\n",
       "<table border=\"1\" class=\"dataframe\">\n",
       "  <thead>\n",
       "    <tr style=\"text-align: right;\">\n",
       "      <th></th>\n",
       "      <th>pclass</th>\n",
       "      <th>sex</th>\n",
       "      <th>age</th>\n",
       "      <th>sibsp</th>\n",
       "      <th>parch</th>\n",
       "      <th>fare</th>\n",
       "      <th>survived</th>\n",
       "    </tr>\n",
       "  </thead>\n",
       "  <tbody>\n",
       "    <tr>\n",
       "      <th>772</th>\n",
       "      <td>3</td>\n",
       "      <td>male</td>\n",
       "      <td>17.0</td>\n",
       "      <td>0</td>\n",
       "      <td>0</td>\n",
       "      <td>7.8958</td>\n",
       "      <td>0</td>\n",
       "    </tr>\n",
       "    <tr>\n",
       "      <th>543</th>\n",
       "      <td>2</td>\n",
       "      <td>male</td>\n",
       "      <td>36.0</td>\n",
       "      <td>0</td>\n",
       "      <td>0</td>\n",
       "      <td>10.5000</td>\n",
       "      <td>0</td>\n",
       "    </tr>\n",
       "    <tr>\n",
       "      <th>289</th>\n",
       "      <td>1</td>\n",
       "      <td>female</td>\n",
       "      <td>18.0</td>\n",
       "      <td>0</td>\n",
       "      <td>2</td>\n",
       "      <td>79.6500</td>\n",
       "      <td>1</td>\n",
       "    </tr>\n",
       "    <tr>\n",
       "      <th>10</th>\n",
       "      <td>1</td>\n",
       "      <td>male</td>\n",
       "      <td>47.0</td>\n",
       "      <td>1</td>\n",
       "      <td>0</td>\n",
       "      <td>227.5250</td>\n",
       "      <td>0</td>\n",
       "    </tr>\n",
       "    <tr>\n",
       "      <th>147</th>\n",
       "      <td>1</td>\n",
       "      <td>male</td>\n",
       "      <td>28.0</td>\n",
       "      <td>0</td>\n",
       "      <td>0</td>\n",
       "      <td>42.4000</td>\n",
       "      <td>0</td>\n",
       "    </tr>\n",
       "    <tr>\n",
       "      <th>...</th>\n",
       "      <td>...</td>\n",
       "      <td>...</td>\n",
       "      <td>...</td>\n",
       "      <td>...</td>\n",
       "      <td>...</td>\n",
       "      <td>...</td>\n",
       "      <td>...</td>\n",
       "    </tr>\n",
       "    <tr>\n",
       "      <th>1095</th>\n",
       "      <td>3</td>\n",
       "      <td>female</td>\n",
       "      <td>28.0</td>\n",
       "      <td>0</td>\n",
       "      <td>0</td>\n",
       "      <td>7.6292</td>\n",
       "      <td>0</td>\n",
       "    </tr>\n",
       "    <tr>\n",
       "      <th>1130</th>\n",
       "      <td>3</td>\n",
       "      <td>female</td>\n",
       "      <td>18.0</td>\n",
       "      <td>0</td>\n",
       "      <td>0</td>\n",
       "      <td>7.7750</td>\n",
       "      <td>0</td>\n",
       "    </tr>\n",
       "    <tr>\n",
       "      <th>1294</th>\n",
       "      <td>3</td>\n",
       "      <td>male</td>\n",
       "      <td>28.5</td>\n",
       "      <td>0</td>\n",
       "      <td>0</td>\n",
       "      <td>16.1000</td>\n",
       "      <td>0</td>\n",
       "    </tr>\n",
       "    <tr>\n",
       "      <th>860</th>\n",
       "      <td>3</td>\n",
       "      <td>female</td>\n",
       "      <td>26.0</td>\n",
       "      <td>0</td>\n",
       "      <td>0</td>\n",
       "      <td>7.9250</td>\n",
       "      <td>1</td>\n",
       "    </tr>\n",
       "    <tr>\n",
       "      <th>1126</th>\n",
       "      <td>3</td>\n",
       "      <td>female</td>\n",
       "      <td>28.0</td>\n",
       "      <td>0</td>\n",
       "      <td>0</td>\n",
       "      <td>7.8958</td>\n",
       "      <td>0</td>\n",
       "    </tr>\n",
       "  </tbody>\n",
       "</table>\n",
       "<p>1047 rows × 7 columns</p>\n",
       "</div>"
      ],
      "text/plain": [
       "      pclass     sex   age  sibsp  parch      fare  survived\n",
       "772        3    male  17.0      0      0    7.8958         0\n",
       "543        2    male  36.0      0      0   10.5000         0\n",
       "289        1  female  18.0      0      2   79.6500         1\n",
       "10         1    male  47.0      1      0  227.5250         0\n",
       "147        1    male  28.0      0      0   42.4000         0\n",
       "...      ...     ...   ...    ...    ...       ...       ...\n",
       "1095       3  female  28.0      0      0    7.6292         0\n",
       "1130       3  female  18.0      0      0    7.7750         0\n",
       "1294       3    male  28.5      0      0   16.1000         0\n",
       "860        3  female  26.0      0      0    7.9250         1\n",
       "1126       3  female  28.0      0      0    7.8958         0\n",
       "\n",
       "[1047 rows x 7 columns]"
      ]
     },
     "execution_count": 42,
     "metadata": {},
     "output_type": "execute_result"
    }
   ],
   "source": [
    "data_df"
   ]
  },
  {
   "cell_type": "markdown",
   "id": "57d8e9c2-2266-40c2-9d91-3bd25e633eb2",
   "metadata": {},
   "source": [
    "Let us visualise the correlation between the individual columns of the data, computed using the [Pearson correlation coefficient](https://en.wikipedia.org/wiki/Pearson_correlation_coefficient). Note that we excluded the `sex` feature from this visualisation, as it is categorical."
   ]
  },
  {
   "cell_type": "code",
   "execution_count": 43,
   "id": "465f7fb2-3f81-4f9a-9ff9-09f45d3a50e1",
   "metadata": {},
   "outputs": [
    {
     "data": {
      "image/png": "[encoded data removed]",
      "text/plain": [
       "<Figure size 640x480 with 2 Axes>"
      ]
     },
     "metadata": {},
     "output_type": "display_data"
    }
   ],
   "source": [
    "import matplotlib.pyplot as plt\n",
    "import seaborn as sns\n",
    "\n",
    "corr = data_df.drop(columns=[\"sex\"]).corr()\n",
    "sns.heatmap(\n",
    "    corr,\n",
    "    xticklabels=corr.columns.values,\n",
    "    yticklabels=corr.columns.values,\n",
    "    annot=True,\n",
    "    fmt='.2g',\n",
    ")\n",
    "plt.show()"
   ]
  },
  {
   "cell_type": "markdown",
   "id": "eba12652-00ee-42f2-b37c-7aabbd7d6b17",
   "metadata": {},
   "source": [
    "Since the previous plot does not include the categorical `sex` column, we also separately visualise its distribution, including the associated labels."
   ]
  },
  {
   "cell_type": "code",
   "execution_count": 44,
   "id": "93e255d4-c9d4-4588-aeb3-f563c202b595",
   "metadata": {},
   "outputs": [
    {
     "data": {
      "image/png": "[encoded data removed]",
      "text/plain": [
       "<Figure size 640x480 with 1 Axes>"
      ]
     },
     "metadata": {},
     "output_type": "display_data"
    }
   ],
   "source": [
    "data_df.groupby(['sex', 'survived']).size().unstack().plot(\n",
    "    kind='bar', stacked=True, color=['#a51900', '#02893b'], xlabel=\"Sex\", ylabel=\"Count\"\n",
    ")\n",
    "plt.legend(['No', 'Yes'], title=\"Survived\")\n",
    "plt.show()"
   ]
  },
  {
   "cell_type": "markdown",
   "id": "ec2dc6b6-a871-4509-8049-52d84833c417",
   "metadata": {},
   "source": [
    "**Task 1(a)**: <br />\n",
    "**(i)** Considering the above visualisations, are there any trends or patterns that you can identify in the data? <br />\n",
    "**(ii)** Without having access to any particular model or the associated explanations, which features would you expect to be the most and least important for a neural network trained on the dataset? How can you tell and how certain can you be of your assessment? <br />\n",
    "**(iii)** Apart from inspecting the above plots, is there anything else you could do as part of the exploratory analysis that would allow you to better understand the data and the behaviour of the models trained on it? <br />\n",
    "Please write your answers in a few sentences."
   ]
  },
  {
   "cell_type": "markdown",
   "id": "64a7e4a2-988d-4580-9fb9-a93f76c3164b",
   "metadata": {},
   "source": [
    "## Model Initialisation and Training"
   ]
  },
  {
   "cell_type": "markdown",
   "id": "4435873c-e279-45c9-b2b0-38faedba32ac",
   "metadata": {},
   "source": [
    "First, we define a global device variable to enable running this code on a GPU or a CPU, as needed."
   ]
  },
  {
   "cell_type": "code",
   "execution_count": 45,
   "id": "65a56bef-3daa-44aa-8e57-d001b3bff2ff",
   "metadata": {},
   "outputs": [],
   "source": [
    "DEVICE = torch.device(\"cuda\" if torch.cuda.is_available() else \"cpu\")"
   ]
  },
  {
   "cell_type": "markdown",
   "id": "17a96541-7047-4c2b-845f-b823f4a8b239",
   "metadata": {},
   "source": [
    "Here, we define several utility functions for constructing, training and evaluating neural networks."
   ]
  },
  {
   "cell_type": "code",
   "execution_count": 46,
   "id": "395dd993-e2e1-46a8-b727-9f646ce4e409",
   "metadata": {},
   "outputs": [],
   "source": [
    "import torch\n",
    "import torch.nn as nn\n",
    "\n",
    "from torcheval.metrics.functional import binary_f1_score, binary_accuracy, binary_auroc\n",
    "from tqdm.auto import tqdm\n",
    "\n",
    "def construct_nn(nn_dims, activation_fun):\n",
    "    \"\"\"\n",
    "    Constructs a neural network with the specified architecture.\n",
    "    \"\"\"\n",
    "    layers = []\n",
    "    for i in range(1, len(nn_dims)):\n",
    "        in_dim, out_dim = nn_dims[i-1], nn_dims[i]\n",
    "        layers.append(nn.Linear(in_dim, out_dim))\n",
    "        layers.append(activation_fun())\n",
    "    # Remove the last activation layer and add Sigmoid instead\n",
    "    layers = layers[:-1]\n",
    "    layers.append(nn.Sigmoid())\n",
    "    \n",
    "    return nn.Sequential(*layers).to(DEVICE)\n",
    "\n",
    "def train_nn(model, train_dl, num_epochs=100):\n",
    "    \"\"\"\n",
    "    Trains a neural network using the data from the provided data loader.\n",
    "    \"\"\"\n",
    "    loss_fun = nn.BCELoss()\n",
    "    opt = torch.optim.AdamW(model.parameters(), lr=0.005)\n",
    "    model.train()\n",
    "    \n",
    "    losses = []\n",
    "    for epoch in tqdm(range(num_epochs), leave=False):\n",
    "        total_loss = 0\n",
    "        for i, (x, y) in list(enumerate(train_dl)):\n",
    "            x, y = x.to(DEVICE), y.to(DEVICE)\n",
    "            opt.zero_grad()\n",
    "            out = model(x)\n",
    "            loss = loss_fun(out.squeeze(-1), y.float())\n",
    "            total_loss += loss.item()\n",
    "            loss.backward()\n",
    "            opt.step()\n",
    "            opt.zero_grad()\n",
    "        losses.append(total_loss)\n",
    "\n",
    "def eval_nn(model, test_dataset):\n",
    "    \"\"\"\n",
    "    Evaluates binary classification performance of a model on the given\n",
    "    test dataset.\n",
    "    \"\"\"\n",
    "    model.eval()\n",
    "\n",
    "    loss_fun = nn.BCELoss()\n",
    "    predictions = model(test_dataset.samples.to(DEVICE))\n",
    "    labels = test_dataset.labels.unsqueeze(-1).to(DEVICE)\n",
    "    loss = loss_fun(predictions, labels.float()).item()\n",
    "\n",
    "    predictions = predictions.squeeze(-1).detach()\n",
    "    labels = labels.squeeze(-1).detach()\n",
    "    f1 = binary_f1_score(predictions, labels).item()\n",
    "    accuracy = binary_accuracy(predictions, labels).item()\n",
    "    auc = binary_auroc(predictions, labels).item()\n",
    "\n",
    "    return loss, f1, accuracy, auc"
   ]
  },
  {
   "cell_type": "markdown",
   "id": "f3495eeb-14fa-4ae2-aaaf-b24c64ab8ef9",
   "metadata": {},
   "source": [
    "In this cell, we initialise and train the neural model that we will be explaining in this coursework. For a real-world application, you would typically wish to perform a full hyperparameter search in order to identify the most effective model architecture. However, achieving a maximum performance is not the objective of this coursework, so we just pre-define a model that performs reasonably well on the given task."
   ]
  },
  {
   "cell_type": "code",
   "execution_count": 47,
   "id": "68254f96-7821-4a53-8615-2edbfee294ba",
   "metadata": {},
   "outputs": [
    {
     "name": "stdout",
     "output_type": "stream",
     "text": [
      "———————[ Model training ]———————\n"
     ]
    },
    {
     "data": {
      "application/vnd.jupyter.widget-view+json": {
       "model_id": "9e02dc1ffdcc4d02ac771d12df832cb5",
       "version_major": 2,
       "version_minor": 0
      },
      "text/plain": [
       "  0%|          | 0/1000 [00:00<?, ?it/s]"
      ]
     },
     "metadata": {},
     "output_type": "display_data"
    },
    {
     "name": "stdout",
     "output_type": "stream",
     "text": [
      "Training completed!\n",
      "\n",
      "———————[ Evaluation ]———————\n",
      "F1 score: 0.72\n",
      "Accuracy: 0.78\n",
      "AUC: 0.81\n"
     ]
    },
    {
     "data": {
      "text/plain": [
       "['titanic_model.joblib']"
      ]
     },
     "execution_count": 47,
     "metadata": {},
     "output_type": "execute_result"
    }
   ],
   "source": [
    "def print_metric(name, value):\n",
    "    print(f\"{name}: {'{:.2f}'.format(round(value, 2))}\")\n",
    "\n",
    "torch.manual_seed(42)\n",
    "np.random.seed(42)\n",
    "model = construct_nn([7, 256, 256, 1], nn.ReLU).to(DEVICE)\n",
    "\n",
    "print(\"———————[ Model training ]———————\")\n",
    "train_nn(model, train_dl, num_epochs=1000)\n",
    "print(\"Training completed!\")\n",
    "print()\n",
    "\n",
    "print(\"———————[ Evaluation ]———————\")\n",
    "test_loss, f1, accuracy, auc = eval_nn(model, test_dataset)\n",
    "print_metric(\"F1 score\", f1)\n",
    "print_metric(\"Accuracy\", accuracy)\n",
    "print_metric(\"AUC\", auc)\n",
    "\n",
    "from joblib import dump, load\n",
    "dump(model, 'titanic_model.joblib')"
   ]
  },
  {
   "cell_type": "markdown",
   "id": "f6034c1b-500d-4e02-a6e7-742d62208c8e",
   "metadata": {},
   "source": [
    "## Feature Attributions"
   ]
  },
  {
   "cell_type": "markdown",
   "id": "02fa2e83-1342-4a8c-b1e7-d1188455eeb6",
   "metadata": {},
   "source": [
    "In this section of the coursework, you will implement SHAP as introduced in the lectures and conduct additional experiments with various feature attribution methods."
   ]
  },
  {
   "cell_type": "markdown",
   "id": "579e7328-82bd-41aa-bcb9-6488e575c3f4",
   "metadata": {},
   "source": [
    "### SHAP Implementation"
   ]
  },
  {
   "cell_type": "markdown",
   "id": "5ecf73aa-f5e3-4c36-9875-19e38c5d5c99",
   "metadata": {},
   "source": [
    "**Task 2(a)(i)**: As a first step in implementing SHAP, define a `compute_coefficient` function to compute the SHAP coalition coefficient/weight as specified by the formula from the lectures:\n",
    "\n",
    "$$g_{SHAP}(\\mathcal{M},\\mathbf{x},i) = \\sum_{\\mathbf{z} \\subseteq \\mathbf{x}}{\\frac{|\\mathbf{z}|!(n - |\\mathbf{z}| - 1)! }{n!} \\mathcal{M}( \\mathbf{z}) - \\mathcal{M}(\\mathbf{z}_{-i})} \\nonumber$$"
   ]
  },
  {
   "cell_type": "code",
   "execution_count": 48,
   "id": "564deb60-0275-4b75-a2a8-b2e61ef4563c",
   "metadata": {},
   "outputs": [],
   "source": [
    "import math\n",
    "\n",
    "def compute_coefficient(num_in_coalition, total_features):\n",
    "    \"\"\"\n",
    "    Computes the SHAP coefficient for a coalition.\n",
    "\n",
    "    Parameters:\n",
    "        num_in_coalition (int): The number of features in the given coalition\n",
    "        total_features (int): The total number of considered features\n",
    "\n",
    "    Returns:\n",
    "        coefficient (float): The SHAP weight for the given coalition\n",
    "    \"\"\"\n",
    "    # TODO: Your code here\n",
    "    # calculate the numerator and denominator\n",
    "    numerator = math.factorial(num_in_coalition) * math.factorial(total_features - num_in_coalition - 1)\n",
    "    denominator = math.factorial(total_features)\n",
    "\n",
    "    # calculate the coefficient\n",
    "    coefficient = numerator / denominator\n",
    "    \n",
    "    return coefficient"
   ]
  },
  {
   "cell_type": "markdown",
   "id": "b8131b77-5eac-471c-a1a8-ff138f4b4541",
   "metadata": {},
   "source": [
    "**Task 2(a)(ii)**: Next, define a function `generate_coalitions`, which will return the list representing all the possible coalitions for a possible feature.\n",
    "\n",
    "Hint #1: You may find it helpful to use [itertools](https://docs.python.org/3/library/itertools.html) and [Python generators](https://wiki.python.org/moin/Generators) for implementing this function.\n",
    "\n",
    "Hint #2: Passing a full list of feature IDs is not strictly necessary here, but you will find this list helpful for implementing other functions, so we also recommend taking it as a parameter here. As an example, for the Titanic dataset, this list could look like `[0, 1, 2, 3, 4, 5, 5]` (note the repeated `5` for the one-hot-encoded `sex` feature)."
   ]
  },
  {
   "cell_type": "code",
   "execution_count": 49,
   "id": "d3e60209-d01b-4947-bba5-e13b5385d43f",
   "metadata": {},
   "outputs": [
    {
     "name": "stdout",
     "output_type": "stream",
     "text": [
      "[(set(), {0, 1, 3}), ({0}, {1, 3}), ({1}, {0, 3}), ({3}, {0, 1}), ({0, 1}, {3}), ({0, 3}, {1}), ({1, 3}, {0}), ({0, 1, 3}, set())]\n"
     ]
    }
   ],
   "source": [
    "import itertools\n",
    "\n",
    "def generate_coalitions(feature_ids, target_feature_id):\n",
    "    \"\"\"\n",
    "    Generates the possible feature coalitions for the purpose of computing the Shapley value\n",
    "    for the target feature.\n",
    "\n",
    "    Parameters:\n",
    "        feature_ids (list): A list with feature IDs from 0 to N (where N is\n",
    "            the total number of features) identifying the used features. Distinct\n",
    "            columns for one-hot-encoded features should be assigned the same\n",
    "            numerical ID.\n",
    "        target_feature_id (int): The ID of the removed feature for which the coalitions\n",
    "            should be generated.\n",
    "\n",
    "    Retruns:\n",
    "        coalitions (list): A nested list structure of coalitions in the form:\n",
    "            [(set(coalition 1 in features set), set(coalition 1 out features set)), ...].\n",
    "            Note that feature_id should not appear in either of the in/out lists.\n",
    "    \"\"\"\n",
    "    # TODO: Your code here\n",
    "    # initialise the coalitions list\n",
    "    coalitions = []\n",
    "    \n",
    "    # loop through every combination LENGTH of feature ids (the number of features to be included in the coalition)\n",
    "    for r in range(len(feature_ids) + 1):\n",
    "        # loop through every combination of feature ids for the given length \n",
    "        for combo in itertools.combinations(feature_ids, r):\n",
    "            \n",
    "            if target_feature_id not in combo: # ensure the target feature id is not in the combination\n",
    "                in_features = set(combo) # this is the coalition\n",
    "                out_features = set(feature_ids) - in_features # these are the out features (features set to the baseline values)\n",
    "                out_features.remove(target_feature_id) # remove the target feature from the out features\n",
    "                coalitions.append((in_features, out_features)) # add the coalition to the list\n",
    "    return coalitions\n",
    "\n",
    "# Test the function\n",
    "feature_ids = [0,1,2,3]\n",
    "target_feature_id = 2\n",
    "coalitions = generate_coalitions(feature_ids, target_feature_id)\n",
    "print(coalitions)"
   ]
  },
  {
   "cell_type": "markdown",
   "id": "cc6fe694-5010-47c6-a3dc-68ffd032eb1b",
   "metadata": {},
   "source": [
    "**Task 2(a)(iii)**: Next, implement a function `delete_features` that deletes the specified features from the given input tensor `x`. In contrast with the setting in the SHAP tutorial, the majority of features considered in this coursework are non-binary, which makes the deletion of features slightly more challenging. The general procedure for performing the deletion can be described as follows:\n",
    "1. For each sample in `x` and each deleted feature, randomly sample the value of the deleted feature from another data point in the background dataset\n",
    "2. If the sampled value is identical to the current value of the deleted feature, continue sampling new values until finding one that differs. This ensures that feature deletion actually changes the values of categorical variables or variables with few possible values.\n",
    "3. Replace the value of the deleted feature in the currently considered sample with the newly sampled value\n",
    "\n",
    "Hint #1: Boolean tensor masks \"selecting\" certain features can be very helpful here.\n",
    "\n",
    "Hint #2: Make sure not to overwrite values in the original `x` when deleting features. Instead, the function should return a new tensor."
   ]
  },
  {
   "cell_type": "code",
   "execution_count": 50,
   "id": "a75928ee-3f2b-4427-8f41-45cfbe239eda",
   "metadata": {},
   "outputs": [],
   "source": [
    "def delete_features(x, background_dataset, feature_ids, deleted_feature_ids):\n",
    "    \"\"\"\n",
    "    Deletes the specified features from inputs x using the background dataset.\n",
    "\n",
    "    Parameters:\n",
    "        x (Tensor): A tensor of inputs with the shape (batch_size, num_features).\n",
    "        background_dataset (Tensor): A tensor of background data samples with the same shape as x.\n",
    "        feature_ids (list): A list with feature IDs, same as in generate_coalitions.\n",
    "        deleted_feature_ids (set): A set with feature IDs to be deleted from x.\n",
    "\n",
    "    Returns:\n",
    "        x_deleted (tensor): A new tensor of inputs with the specified features deleted.\n",
    "    \"\"\"    \n",
    "    # Make the sampling deterministic\n",
    "    torch.manual_seed(42)\n",
    "    np.random.seed(42)\n",
    "\n",
    "    # TODO: Your code here\n",
    "    # initialise a copy of x to modify\n",
    "    x_deleted = x.clone()\n",
    "    # Loop through all features to be deleted\n",
    "    for feature_id in deleted_feature_ids:\n",
    "        # Find the index of the feature to be deleted (so we know which column to modify)\n",
    "        feature_index = feature_ids.index(feature_id)\n",
    "\n",
    "        for i in range(x.shape[0]):  # Loop over each sample in the batch\n",
    "            # Randomly sample from background_dataset until a different value is found\n",
    "            count = 1\n",
    "            # If the feature is the binary sex feature, simply flip the value\n",
    "            if feature_id in [5 ,6]:\n",
    "                if x[i, 5] == 0:\n",
    "                    x_deleted[i, 5] = 1\n",
    "                    x_deleted[i, 6] = 0\n",
    "                else:\n",
    "                    x_deleted[i, 5] = 0\n",
    "                    x_deleted[i, 6] = 1\n",
    "            # if the feature is not binary, sample a different value from the background dataset\n",
    "            else:\n",
    "                while True:\n",
    "                    rand_row_index = np.random.randint(background_dataset.shape[0]) # randomly sample a row from the background dataset\n",
    "                    sampled_value = background_dataset[rand_row_index, feature_index]\n",
    "                    if sampled_value != x[i, feature_index]: # check if sampled value is different from the original value\n",
    "                        x_deleted[i, feature_index] = sampled_value # if so, replace value\n",
    "                        #print(f'replaced on try {count}')\n",
    "                        break\n",
    "                    count += 1\n",
    "\n",
    "\n",
    "    return x_deleted"
   ]
  },
  {
   "cell_type": "markdown",
   "id": "679f0dc8-1542-4989-b148-41d5e5889e5b",
   "metadata": {},
   "source": [
    "**Task 2(a)(iv)**: Finally, put everything together in the `shap_attribute` function, which will compute the SHAP attributions for the given input and model. Note that the function also takes in a `target_idx` specifying for which output neuron the explanations should be computed. This is not strictly necessary for the Titanic model, which only has a single Sigmoid output, but will be needed once you start working with a more complex model."
   ]
  },
  {
   "cell_type": "code",
   "execution_count": 51,
   "id": "aecaa2ba-f48f-474e-9503-d22598e554e6",
   "metadata": {},
   "outputs": [],
   "source": [
    "def shap_attribute(model, x, background_dataset, feature_ids, target_idx=0):\n",
    "    \"\"\"\n",
    "    Computes the SHAP attributions for the given input and model.\n",
    "\n",
    "    Parameters:\n",
    "        model (Object): A PyTorch model for which the attributions should be computed.\n",
    "        x (Tensor): Inputs for which the explanations should be computed, in shape (batch_size, num_features).\n",
    "        background_dataset (Tensor): A tensor of background data samples with the same shape as x.\n",
    "        feature_ids (list): A list with feature IDs, same as in generate_coalitions.\n",
    "        target_idx (int): The ID of the target neuron for which to compute an explanation\n",
    "            (useful for classification tasks with multiple labels where it should correspond\n",
    "\n",
    "    Returns:\n",
    "        attributions (Tensor): A tensor of SHAP attributions, with the same shape as the input\n",
    "    \"\"\"\n",
    "    # TODO: Your code here\n",
    "    # initialse the attributions tensor\n",
    "    attributions = torch.zeros_like(x)\n",
    "    \n",
    "    # Loop over each sample in the batch (rows in x)\n",
    "                \n",
    "    # loop over all features to be explained (all input features) (cols in x)\n",
    "    for index, current_feature_id in enumerate(feature_ids):\n",
    "        coalition_list = generate_coalitions(feature_ids, current_feature_id) # generate the coalitions\n",
    "        \n",
    "        # loop over all coalitions for the current feature\n",
    "        for coalition in coalition_list:\n",
    "            in_features = coalition[0] # get the in features (features to be changed from the baseline) (later defines z_neg_i)\n",
    "            in_features_with_target = in_features.copy() \n",
    "            in_features_with_target.add(current_feature_id )# add the current feature to the in features (later defines z)\n",
    "            \n",
    "            # create the z and z_neg_i coalitions\n",
    "            z = delete_features(x, background_dataset, feature_ids, in_features_with_target) # coalition with the current feature (current feature perturbed)\n",
    "            z_neg_i = delete_features(x, background_dataset, feature_ids, in_features) # coalition without the current feature (current feature set to baseline)\n",
    "            \n",
    "            # get the model predictions for the coalitions\n",
    "            prediction_z = model(z) # get the model prediction for the coalition with the current feature\n",
    "            prediction_z_neg_i = model(z_neg_i) # get the model prediction for the coalition without the current feature\n",
    "            \n",
    "            # for dry bean dataset where the model is a multi-class classifier\n",
    "            if prediction_z.shape[1] > 1:\n",
    "                prediction_z = torch.argmax(prediction_z, dim=1)\n",
    "                prediction_z = prediction_z.unsqueeze(1)\n",
    "                prediction_z_neg_i = torch.argmax(prediction_z_neg_i, dim=1)\n",
    "                prediction_z_neg_i = prediction_z_neg_i.unsqueeze(1)\n",
    "            \n",
    "            # calculate the shap value for the current feature\n",
    "            marginal_contribution = (prediction_z - prediction_z_neg_i) * compute_coefficient(len(in_features), len(feature_ids))\n",
    "            \n",
    "            # add marginal contribution to the total contribution\n",
    "            feature_index = index\n",
    "            attributions[:, feature_index:feature_index+1] += marginal_contribution.detach()\n",
    "        \n",
    "    return attributions\n"
   ]
  },
  {
   "cell_type": "markdown",
   "id": "7d130f0d",
   "metadata": {},
   "source": [
    "### Test implementation is correct"
   ]
  },
  {
   "cell_type": "code",
   "execution_count": 52,
   "id": "35b63c0e",
   "metadata": {},
   "outputs": [
    {
     "name": "stdout",
     "output_type": "stream",
     "text": [
      "Custom SHAP values: tensor([[ 0.2570,  0.0577, -0.1081,  0.0498,  0.2028,  0.2398,  0.2398],\n",
      "        [ 0.1717, -0.1711,  0.2162, -0.0067,  0.3194,  0.1347,  0.1347],\n",
      "        [ 0.1715, -0.0214, -0.1029,  0.0037,  0.1059, -0.2977, -0.2977],\n",
      "        [-0.2214,  0.0636,  0.0404,  0.0272, -0.0129,  0.4071,  0.4071],\n",
      "        [ 0.0896,  0.0818,  0.0556,  0.0529,  0.0661, -0.4536, -0.4536],\n",
      "        [-0.0446, -0.0054,  0.0136, -0.0653, -0.0188, -0.3937, -0.3937],\n",
      "        [-0.3624,  0.0271, -0.0494, -0.0198, -0.0395,  0.3416,  0.3416],\n",
      "        [-0.0822,  0.2128,  0.1695, -0.0154, -0.0998,  0.1693,  0.1693],\n",
      "        [ 0.1623, -0.0336, -0.1473, -0.0654, -0.1395,  0.2131,  0.2131],\n",
      "        [-0.0747, -0.0174, -0.0058,  0.1240,  0.1244, -0.4473, -0.4473]])\n",
      "tensor([0.1637, 0.0692, 0.0909, 0.0430, 0.1129, 0.3098, 0.3098])\n"
     ]
    },
    {
     "data": {
      "text/plain": [
       "<BarContainer object of 7 artists>"
      ]
     },
     "execution_count": 52,
     "metadata": {},
     "output_type": "execute_result"
    },
    {
     "data": {
      "image/png": "[encoded data removed]",
      "text/plain": [
       "<Figure size 640x480 with 1 Axes>"
      ]
     },
     "metadata": {},
     "output_type": "display_data"
    }
   ],
   "source": [
    "import torch\n",
    "import shap\n",
    "import matplotlib.pyplot as plt\n",
    "\n",
    "\n",
    "# Establish the test set and background set\n",
    "test_set = torch.Tensor(test_dataset.samples[:100:10])\n",
    "background_set = torch.cat((train_dataset.samples, test_dataset.samples), dim=0)\n",
    "\n",
    "# Calculate SHAP values using the implemented method\n",
    "custom_shap_values = shap_attribute(model, test_set, background_set, [0,1,2,3,4,5,5])\n",
    "print(\"Custom SHAP values:\", custom_shap_values)\n",
    "\n",
    "# calculate the average of absolute shap values\n",
    "mean_custom_shap_values = torch.mean(custom_shap_values.abs(), dim=0)\n",
    "print(mean_custom_shap_values)\n",
    "\n",
    "# plot the mean shap values\n",
    "plt.barh(test_dataset.features, mean_custom_shap_values)\n"
   ]
  },
  {
   "cell_type": "markdown",
   "id": "3017834b-bf1c-48e4-ab1c-ff0d26ccab5c",
   "metadata": {},
   "source": [
    "### Additional Explanation Methods"
   ]
  },
  {
   "cell_type": "markdown",
   "id": "33325644-8c95-4e9f-aa94-9cf9206d2268",
   "metadata": {},
   "source": [
    "Apart from SHAP, which you just implemented, you will also be experimenting with two more feature attribution methods implemented in the [Captum](https://captum.ai/) library — [Shapley Value Sampling](https://captum.ai/api/shapley_value_sampling.html) and [DeepLIFT](https://captum.ai/api/deep_lift.html). Shapley Value Sampling is a more computationally tractable approximation of SHAP and computes the scores by randomly sampling a fixed number of coalitions instead of considering all of them. Meanwhile, DeepLIFT is a fast gradient-based attribution method specifically designed for neural models. If you are interested, you can learn more about DeepLIFT in [its original paper](https://arxiv.org/abs/1704.02685).\n",
    "\n",
    "To get you started, we provide an example of how to use the Captum library to generate Shapley Value Sampling attributions for the first sample from the Titanic test set (note that the library also allows you to compute attributions for a batch of inputs):"
   ]
  },
  {
   "cell_type": "code",
   "execution_count": 53,
   "id": "974eca85-1658-4222-95fc-bf3d180baeb5",
   "metadata": {},
   "outputs": [
    {
     "data": {
      "text/plain": [
       "tensor([[ 0.0000,  0.3113,  0.0000,  0.0000,  0.1001, -0.4734, -0.4734]])"
      ]
     },
     "execution_count": 53,
     "metadata": {},
     "output_type": "execute_result"
    }
   ],
   "source": [
    "from captum.attr import ShapleyValueSampling\n",
    "\n",
    "# Note that this is similar to feature_ids from the implementation above,\n",
    "# but the shape and the data type are different\n",
    "feature_mask = torch.tensor([[0, 1, 2, 3, 4, 5, 5]]).to(DEVICE)\n",
    "svs = ShapleyValueSampling(model)\n",
    "attributions = svs.attribute(test_dataset.samples[[0]].to(DEVICE), target=0, feature_mask=feature_mask)\n",
    "attributions"
   ]
  },
  {
   "cell_type": "markdown",
   "id": "b9e108b2-15d8-4c0b-bf6f-a64a4fe3b9e2",
   "metadata": {},
   "source": [
    "Notice that, in contrast with the SHAP implementation above, we did not need to pass in the background dataset. This is because Captum takes a slightly different approach to deleting features and instead replaces them with a pre-specified baseline value (see the `baselines` parameter description in the [documentation](https://captum.ai/api/shapley_value_sampling.html)). For the purposes of this coursework, it is fine to use the default (zero) baseline for both Shapley Value Sampling and DeepLIFT."
   ]
  },
  {
   "cell_type": "markdown",
   "id": "d5c24e08-7871-44fe-afdd-d15c3c8d1fee",
   "metadata": {},
   "source": [
    "### Feature Attribution Experiments"
   ]
  },
  {
   "cell_type": "markdown",
   "id": "ce5d4669-00e6-43bb-826f-c0f12aa45f96",
   "metadata": {},
   "source": [
    "In this section, you will conduct several experiments associated with feature attribution methods.\n",
    "\n",
    "**Task 2(b)**: Using your implementation of SHAP and Captum implementations of Shapley Value Sampling and DeepLIFT, compute feature attributions for 10 randomly selected instances from the Titanic test set. Then answer the following questions: <br />\n",
    "**(i)** Which features generally seem to be the most important and least important for the explained model according to each of the explanations? <br />\n",
    "**(ii)** Are there any substantial differences between the different attribution methods? What might be the possible reasons for the different methods returning different attribution scores? <br />\n",
    "**(iii)** Do the attribution scores match your expectations for the most/least important features from task 1(a)(ii)? What might be the reasons for a user's expected explanations differing from the computed attribution explanations? <br />\n",
    "**(iv)** Considering the insights gained from the exploratory data analysis and the feature attribution explanations, as well as the definitions of the explanations themselves, what are the potential advantages/disadvantages of each of these methods when trying to understand the behaviour of a model on a particular dataset? <br />"
   ]
  },
  {
   "cell_type": "code",
   "execution_count": 62,
   "id": "c2680c1c-9276-45c1-94ae-c10a660b74f5",
   "metadata": {},
   "outputs": [
    {
     "name": "stdout",
     "output_type": "stream",
     "text": [
      "test set shape:  torch.Size([10, 7])\n",
      "Mean Custom SHAP Attributions: [0.16373762 0.06918935 0.09087773 0.04300166 0.11289503 0.30977055\n",
      " 0.30977055]\n",
      "Mean SVS Attributions: tensor([0.1927, 0.1530, 0.0112, 0.0201, 0.1237, 0.2375, 0.2375])\n",
      "Mean DeepLift Attributions: [0.19109894 0.10520379 0.00491195 0.00083377 0.28644797 0.16803963\n",
      " 0.07824786]\n"
     ]
    },
    {
     "name": "stderr",
     "output_type": "stream",
     "text": [
      "Input Tensor 0 did not already require gradients, required_grads has been set automatically.\n",
      "Setting forward, backward hooks and attributes on non-linear\n",
      "               activations. The hooks and attributes will be removed\n",
      "            after the attribution is finished\n"
     ]
    },
    {
     "data": {
      "image/png": "[encoded data removed]",
      "text/plain": [
       "<Figure size 1200x600 with 1 Axes>"
      ]
     },
     "metadata": {},
     "output_type": "display_data"
    }
   ],
   "source": [
    "import torch\n",
    "import matplotlib.pyplot as plt\n",
    "from captum.attr import ShapleyValueSampling, DeepLift\n",
    "import random\n",
    "from torch.utils.data import RandomSampler\n",
    "\n",
    "# Set up feature mask - make sure this matches the structure of your data\n",
    "feature_mask = torch.tensor([[0, 1, 2, 3, 4, 5, 5]]).to(DEVICE)\n",
    "\n",
    "# Establish the test set and background set\n",
    "random_sample = False\n",
    "\n",
    "if random_sample == False:\n",
    "    test_set = torch.Tensor(test_dataset.samples[:100:10]) # same as randomly selecting 10 samples from the test set\n",
    "    print('test set shape: ', test_set.shape)\n",
    "else:\n",
    "    torch.manual_seed(99)\n",
    "    num_samples_to_select = 10\n",
    "    random_sampler = RandomSampler(test_dataset, replacement=False, num_samples=num_samples_to_select)\n",
    "    test_set = torch.Tensor(test_dataset.samples[list(random_sampler)])\n",
    "\n",
    "background_set = torch.cat((train_dataset.samples, test_dataset.samples), dim=0)\n",
    "\n",
    "# Calculate SHAP values using the implemented method\n",
    "custom_shap_values = shap_attribute(model, test_set, background_set, [0,1,2,3,4,5,5])\n",
    "mean_custom_shap_values = torch.mean(custom_shap_values.abs(), dim=0).detach().numpy()\n",
    "std_custom_shap_values = torch.std(custom_shap_values.abs(), dim=0).detach().numpy()\n",
    "print(\"Mean Custom SHAP Attributions:\", mean_custom_shap_values)\n",
    "\n",
    "# Shapley Value Sampling\n",
    "svs = ShapleyValueSampling(model)\n",
    "svs_attributions = svs.attribute(test_set.to(DEVICE), target=0, feature_mask=feature_mask)\n",
    "mean_svs_attributions = torch.mean(svs_attributions.abs(), dim=0)\n",
    "std_svs_attributions = torch.std(svs_attributions.abs(), dim=0)\n",
    "print(\"Mean SVS Attributions:\", mean_svs_attributions)\n",
    "\n",
    "# DeepLift\n",
    "dl = DeepLift(model)\n",
    "dl_attributions = dl.attribute(test_set.to(DEVICE), target=0, baselines=torch.zeros_like(test_set).to(DEVICE))\n",
    "mean_dl_attributions = torch.mean(dl_attributions.abs(), dim=0)\n",
    "mean_dl_attributions = mean_dl_attributions.detach().numpy()\n",
    "std_dl_attributions = torch.std(dl_attributions.abs(), dim=0)\n",
    "print(\"Mean DeepLift Attributions:\", mean_dl_attributions)\n",
    "\n",
    "# Number of bars (features)\n",
    "n_bars = len(test_dataset.features)\n",
    "bar_width = 0.25  # Adjusted width of the bars\n",
    "\n",
    "# Setting the positions of the bars\n",
    "x_pos = np.arange(n_bars)\n",
    "x_pos_custom = x_pos - bar_width\n",
    "x_pos_svs = x_pos\n",
    "x_pos_dl = x_pos + bar_width\n",
    "\n",
    "# Creating the plot\n",
    "plt.figure(figsize=(12, 6))  # Adjusted figure size\n",
    "\n",
    "# Plotting the data with standard deviation bars\n",
    "plt.bar(x_pos_custom, mean_custom_shap_values, bar_width, yerr=std_custom_shap_values, capsize=5, label='Custom SHAP')\n",
    "plt.bar(x_pos_svs, mean_svs_attributions.numpy(), bar_width, yerr=std_svs_attributions.numpy(), capsize=5, label='SVS')\n",
    "plt.bar(x_pos_dl, mean_dl_attributions, bar_width, yerr=std_dl_attributions.detach().numpy(), capsize=5, label='DeepLift')\n",
    "\n",
    "# Adding labels and title\n",
    "plt.xticks(x_pos, ['pclass', 'age', 'sibsp', 'parch', 'fare', 'female', 'male'], fontsize=16)\n",
    "plt.yticks(fontsize=16)\n",
    "plt.ylabel('Attribution',fontsize=16)\n",
    "plt.xlabel('Feature', fontsize=16)\n",
    "plt.legend(fontsize=16)\n",
    "\n",
    "# Display the plot\n",
    "plt.tight_layout()\n",
    "plt.grid()\n",
    "plt.show()\n"
   ]
  },
  {
   "cell_type": "markdown",
   "id": "548f1001-218e-46a8-b4cf-303f2939c234",
   "metadata": {},
   "source": [
    "**Task 2(c)**: Perform a quantitative evaluation of the different attribution methods by computing their mean [infidelity](https://captum.ai/api/metrics.html) on the full Titanic dataset. On a high level, infidelity aims to estimate how closely the generated explanations correspond with the behaviour of the explained model by slightly perturbing the inputs and measuring how much the observed change in the model output differs from the change predicted by the corresponding feature attributions (when considering a linear model with the same weights as the feature attribution scores). If you are interested, you can find more details regarding this metric in [the original paper](https://arxiv.org/abs/1901.09392). A downside of the infidelity metric is that one needs to define a suitable perturbation function for changing the model inputs, which can significantly affect the results. In this coursework, we provide you with a perturbation function adding Gaussian noise to continuous features and performing resampling for categorical features. In your evaluation, you should experiment with two or three different standard deviations and categorical resampling probabilities. Once you are done, add a table summarising the results to your report and comment on the findings. Note that lower infidelity scores are better.\n",
    "\n",
    "Note: You should use `normalize=True` and `n_perturb_samples=10` as parameters to the Captum's infidelity function and set the same Torch and NumPy seeds before computing the infidelity for each method (so that all methods are evaluated using the same sample perturbations)."
   ]
  },
  {
   "cell_type": "code",
   "execution_count": null,
   "id": "9ffeb0f4-180f-4c7c-8a3f-258d3725ddfb",
   "metadata": {},
   "outputs": [],
   "source": [
    "from captum.metrics import infidelity, infidelity_perturb_func_decorator\n",
    "\n",
    "def perturb_func_constructor(noise_scale, cat_resample_proba, background_dataset, feature_ids, n_perturb_samples=10):\n",
    "    \"\"\"\n",
    "    You can call this function to construct a perturbation function with the desired parameters,\n",
    "    which can then be provided as the perturb_func parameter to the infidelity metric implementation\n",
    "    from Captum.\n",
    "\n",
    "     Parameters:\n",
    "        noise_scale (float): A standard deviation of the Gaussian noise added to the continuous features.\n",
    "        cat_resample_proba (float): Probability of resampling a categorical feature.\n",
    "        background_dataset (Tensor): A tensor of background data samples with the shape (num_samples, num_features).\n",
    "        feature_ids (list): A list with feature IDs, same as in generate_coalitions.\n",
    "        n_perturb_samples (int): The number of perturbed samples for each input. Should match the value\n",
    "            of the corresponding parameter to the Captum's infidelity function.\n",
    "\n",
    "    Returns:\n",
    "        perturb_func (function): A perturbation function compatible with Captum\n",
    "    \"\"\"\n",
    "    @infidelity_perturb_func_decorator(True)\n",
    "    def perturb_func(inputs):        \n",
    "        # Construct masks for noise and resampling categorical variables\n",
    "        noise_mask = torch.ones(1, inputs.size(1)).to(DEVICE)\n",
    "        # We assume that categorical features are one-hot-encoded\n",
    "        i = 0\n",
    "        current_span_start = 0\n",
    "        categorical_spans = []\n",
    "        while i < len(feature_ids) - 1:    \n",
    "            if feature_ids[i] != feature_ids[i + 1] and current_span_start != i:\n",
    "                categorical_spans.append((current_span_start, i))\n",
    "                current_span_start = i + 1\n",
    "            elif feature_ids[i] != feature_ids[i + 1]:\n",
    "                current_span_start = i + 1\n",
    "            elif feature_ids[i] == feature_ids[i + 1] and i == len(feature_ids) - 2:\n",
    "                categorical_spans.append((current_span_start, i + 1))\n",
    "            i += 1\n",
    "                \n",
    "        cat_resample_masks = []\n",
    "        for i, (s, e) in enumerate(categorical_spans):\n",
    "            cat_resample_mask = torch.zeros(inputs.shape).to(DEVICE)\n",
    "            probabilities = torch.full((inputs.size(0), 1), cat_resample_proba)\n",
    "            resample_tensor = torch.bernoulli(probabilities)\n",
    "            noise_mask[:, s:e] = 0.\n",
    "            cat_resample_mask[:, s:e] = resample_tensor\n",
    "            cat_resample_masks.append(cat_resample_mask)\n",
    "\n",
    "        # Add noise to continuous features only\n",
    "        noise = torch.tensor(np.random.normal(0, noise_scale, inputs.shape)).float().to(DEVICE) * noise_mask\n",
    "        perturbed_inputs = inputs - noise\n",
    "\n",
    "        # Randomly resample categorical variables\n",
    "        if categorical_spans:\n",
    "            expanded_background_dataset = background_dataset.repeat((n_perturb_samples, 1))\n",
    "            for cat_resample_mask in cat_resample_masks:\n",
    "                random_perm = torch.randperm(expanded_background_dataset.size(0))\n",
    "                random_samples = expanded_background_dataset[random_perm[:inputs.size(0)]]\n",
    "                perturbed_inputs = perturbed_inputs * (1 - cat_resample_mask) + random_samples * cat_resample_mask\n",
    "\n",
    "        return perturbed_inputs\n",
    "\n",
    "    return perturb_func"
   ]
  },
  {
   "cell_type": "code",
   "execution_count": null,
   "id": "a36cb06b-f3ae-4888-905f-54d8cb5ae7bb",
   "metadata": {},
   "outputs": [
    {
     "name": "stderr",
     "output_type": "stream",
     "text": [
      "To copy construct from a tensor, it is recommended to use sourceTensor.clone().detach() or sourceTensor.clone().detach().requires_grad_(True), rather than torch.tensor(sourceTensor).\n",
      "Input Tensor 0 did not already require gradients, required_grads has been set automatically.\n",
      "Setting forward, backward hooks and attributes on non-linear\n",
      "               activations. The hooks and attributes will be removed\n",
      "            after the attribution is finished\n"
     ]
    },
    {
     "name": "stdout",
     "output_type": "stream",
     "text": [
      "    Noise Scale  Cat Resample Proba  Method  Mean Infidelity\n",
      "0           0.1                 0.2  Custom         0.076879\n",
      "1           0.1                 0.2     Svs         0.080367\n",
      "2           0.1                 0.2      Dl         0.080423\n",
      "3           0.1                 0.5  Custom         0.080188\n",
      "4           0.1                 0.5     Svs         0.088015\n",
      "5           0.1                 0.5      Dl         0.090248\n",
      "6           0.1                 0.8  Custom         0.081636\n",
      "7           0.1                 0.8     Svs         0.093730\n",
      "8           0.1                 0.8      Dl         0.097189\n",
      "9           0.5                 0.2  Custom         0.189948\n",
      "10          0.5                 0.2     Svs         0.184145\n",
      "11          0.5                 0.2      Dl         0.192985\n",
      "12          0.5                 0.5  Custom         0.202945\n",
      "13          0.5                 0.5     Svs         0.193099\n",
      "14          0.5                 0.5      Dl         0.200566\n",
      "15          0.5                 0.8  Custom         0.209264\n",
      "16          0.5                 0.8     Svs         0.203286\n",
      "17          0.5                 0.8      Dl         0.209546\n",
      "18          1.0                 0.2  Custom         0.247418\n",
      "19          1.0                 0.2     Svs         0.248996\n",
      "20          1.0                 0.2      Dl         0.257193\n",
      "21          1.0                 0.5  Custom         0.257849\n",
      "22          1.0                 0.5     Svs         0.255752\n",
      "23          1.0                 0.5      Dl         0.262132\n",
      "24          1.0                 0.8  Custom         0.266680\n",
      "25          1.0                 0.8     Svs         0.263913\n",
      "26          1.0                 0.8      Dl         0.269671\n",
      "27          2.0                 0.2  Custom         0.298628\n",
      "28          2.0                 0.2     Svs         0.302335\n",
      "29          2.0                 0.2      Dl         0.311348\n",
      "30          2.0                 0.5  Custom         0.306343\n",
      "31          2.0                 0.5     Svs         0.306769\n",
      "32          2.0                 0.5      Dl         0.315078\n",
      "33          2.0                 0.8  Custom         0.311948\n",
      "34          2.0                 0.8     Svs         0.311092\n",
      "35          2.0                 0.8      Dl         0.318778\n"
     ]
    }
   ],
   "source": [
    "# TODO: Your code and experiments here\n",
    "import pandas as pd\n",
    "\n",
    "# set model to evaluation mode\n",
    "model.eval()\n",
    "\n",
    "# calculate infidelity\n",
    "def calculate_mean_infidelity(model, dataset, attribution_method, perturb_func):\n",
    "\n",
    "    # Compute attributions\n",
    "    if attribution_method == 'svs':\n",
    "        attributions = ShapleyValueSampling(model).attribute(dataset, target=0)\n",
    "    elif attribution_method == 'dl':\n",
    "        attributions = DeepLift(model).attribute(dataset, target=0)\n",
    "    elif attribution_method == 'custom':\n",
    "        attributions = shap_attribute(model, dataset, dataset, [0,1,2,3,4,5,5])\n",
    "\n",
    "    # Calculate infidelity for this batch\n",
    "    total_infidelity = infidelity(model, perturb_func, dataset, attributions, normalize=True, n_perturb_samples=10)\n",
    "    \n",
    "    # Average infidelity across all batches\n",
    "    mean_infidelity = torch.mean(torch.tensor(total_infidelity), dim=0)\n",
    "    return mean_infidelity.item()\n",
    "\n",
    "# Calculate infidelity over the entire dataset for different noise scales and probabilities\n",
    "results = []\n",
    "\n",
    "for noise_scale in [0.1, 0.5, 1.0, 2.0]:\n",
    "    for cat_resample_proba in [0.2, 0.5, 0.8]:\n",
    "        perturb_func = perturb_func_constructor(noise_scale, cat_resample_proba, background_set, [0,1,2,3,4,5,5])\n",
    "\n",
    "        for method in ['custom', 'svs', 'dl']:\n",
    "            mean_infidelity = calculate_mean_infidelity(model, background_set, method, perturb_func)\n",
    "            results.append({\n",
    "                'Noise Scale': noise_scale,\n",
    "                'Cat Resample Proba': cat_resample_proba,\n",
    "                'Method': method.capitalize(),\n",
    "                'Mean Infidelity': mean_infidelity\n",
    "            })\n",
    "\n",
    "# Convert the results to a pandas DataFrame\n",
    "df_results = pd.DataFrame(results)\n",
    "\n",
    "# Display the DataFrame\n",
    "print(df_results)\n",
    "\n",
    "df_results.to_csv('infidelity_results.csv', index=False)"
   ]
  },
  {
   "cell_type": "code",
   "execution_count": null,
   "id": "1a72cbb1",
   "metadata": {},
   "outputs": [
    {
     "data": {
      "image/png": "[encoded data removed]",
      "text/plain": [
       "<Figure size 600x260 with 1 Axes>"
      ]
     },
     "metadata": {},
     "output_type": "display_data"
    },
    {
     "data": {
      "image/png": "[encoded data removed]",
      "text/plain": [
       "<Figure size 600x350 with 4 Axes>"
      ]
     },
     "metadata": {},
     "output_type": "display_data"
    }
   ],
   "source": [
    "import pandas as pd\n",
    "import matplotlib.pyplot as plt\n",
    "df_results = pd.read_csv('infidelity_results.csv')\n",
    "\n",
    "custom_infid = df_results[df_results['Method'] == 'Custom']\n",
    "svs_infid = df_results[df_results['Method'] == 'Svs']\n",
    "dl_infid = df_results[df_results['Method'] == 'Dl']\n",
    "\n",
    "# choose a figure size and font size\n",
    "factor = 1\n",
    "figsize=(6*factor, 3.5*factor)\n",
    "fontsize = 8\n",
    "\n",
    "# decide on a fixed categorical resample probability to plot infidelity vs noise \n",
    "plt.figure(figsize=(6,2.6))  # Adjusted figure size\n",
    "for cat_resample_prob in [0.2, 0.5, 0.8]:\n",
    "    if cat_resample_prob == 0.2:\n",
    "        linestyle = ':'\n",
    "    elif cat_resample_prob == 0.5:\n",
    "        linestyle = '--'\n",
    "    else:\n",
    "        linestyle = '-'    \n",
    "    # Sort the dataframes by noise scale\n",
    "    custom_infid_vs_noise = custom_infid[custom_infid['Cat Resample Proba'] == cat_resample_prob].sort_values(by='Noise Scale')\n",
    "    svs_infid_vs_noise = svs_infid[svs_infid['Cat Resample Proba'] == cat_resample_prob].sort_values(by='Noise Scale')\n",
    "    dl_infid_vs_noise = dl_infid[dl_infid['Cat Resample Proba'] == cat_resample_prob].sort_values(by='Noise Scale')\n",
    "\n",
    "    # Plot the infidelity vs noise scale\n",
    "    plt.plot(custom_infid_vs_noise['Noise Scale'], custom_infid_vs_noise['Mean Infidelity'], label=f'Custom (RS={cat_resample_prob})', linestyle=linestyle)\n",
    "    plt.plot(svs_infid_vs_noise['Noise Scale'], svs_infid_vs_noise['Mean Infidelity'], label=f'SVS (RS={cat_resample_prob})', linestyle=linestyle)\n",
    "    plt.plot(dl_infid_vs_noise['Noise Scale'], dl_infid_vs_noise['Mean Infidelity'], label=f'DeepLift (RS={cat_resample_prob})', linestyle=linestyle)\n",
    "    plt.xlabel('Standard Deviation of Added Noise', fontsize=fontsize+2)\n",
    "    plt.ylabel('Mean Infidelity', fontsize=fontsize+2)\n",
    "    \n",
    "plt.legend(fontsize=fontsize)\n",
    "plt.grid()\n",
    "plt.tight_layout()\n",
    "plt.show()\n",
    "\n",
    "# decide on a fixed categorical resample probability to plot infidelity vs cat resample probability \n",
    "fig = plt.figure(figsize=(6, 3.5))  # Adjusted figure size\n",
    "\n",
    "for position, noise in enumerate([0.1, 0.5, 1.0, 2.0]):\n",
    "    ax = fig.add_subplot(2, 2, position+1)\n",
    "    \n",
    "    # Sort the dataframes by cat resample probability\n",
    "    custom_infid_vs_cat = custom_infid[custom_infid['Noise Scale'] == noise].sort_values(by='Cat Resample Proba')\n",
    "    svs_infid_vs_cat = svs_infid[svs_infid['Noise Scale'] == noise].sort_values(by='Cat Resample Proba')\n",
    "    dl_infid_vs_cat = dl_infid[dl_infid['Noise Scale'] == noise].sort_values(by='Cat Resample Proba')\n",
    "\n",
    "    # Plot the infidelity vs cat resample probability\n",
    "\n",
    "    plt.plot(custom_infid_vs_cat['Cat Resample Proba'], custom_infid_vs_cat['Mean Infidelity'], label=f'Custom')\n",
    "    plt.plot(svs_infid_vs_cat['Cat Resample Proba'], svs_infid_vs_cat['Mean Infidelity'], label=f'SVS')\n",
    "    plt.plot(dl_infid_vs_cat['Cat Resample Proba'], dl_infid_vs_cat['Mean Infidelity'], label=f'DeepLift')\n",
    "    ax.set_title(f'Std dev = {noise}', fontsize=fontsize+2)\n",
    "    \n",
    "    plt.legend(fontsize=fontsize-1)\n",
    "    plt.grid()\n",
    "    plt.tight_layout()\n",
    "fig.text(0.53, 0.00, 'Resample Probability', ha='center', va='center', fontsize=fontsize+2)\n",
    "fig.text(0.00, 0.5, 'Mean Infidelity', ha='center', va='center', rotation='vertical', fontsize=fontsize+2)\n",
    "\n",
    "plt.show()"
   ]
  },
  {
   "cell_type": "code",
   "execution_count": null,
   "id": "35f5d67b",
   "metadata": {},
   "outputs": [
    {
     "data": {
      "image/png": "[encoded data removed]",
      "text/plain": [
       "<Figure size 640x480 with 1 Axes>"
      ]
     },
     "metadata": {},
     "output_type": "display_data"
    }
   ],
   "source": [
    "# Save results to a CSV file\n",
    "df_results.to_csv('mean_infidelity_results.csv', index=False)\n",
    "\n",
    "# example mean infidelity values\n",
    "mean_infidelities = [df_results.loc[0, 'Mean Infidelity'], df_results.loc[1, 'Mean Infidelity'], df_results.loc[2, 'Mean Infidelity']]\n",
    "methods = ['Custom', 'SVS', 'DL']\n",
    "\n",
    "# Create bar graph\n",
    "plt.bar(methods, mean_infidelities)\n",
    "plt.xlabel('Attribution Method')\n",
    "plt.ylabel('Mean Infidelity')\n",
    "plt.title('Mean Infidelity for Different Attribution Methods')\n",
    "plt.show()"
   ]
  },
  {
   "cell_type": "markdown",
   "id": "611be864-83ac-467c-8925-e5dfa6927463",
   "metadata": {},
   "source": [
    "**Task 2(d)**: Evaluate the computational efficiency of the different methods by taking the following steps: <br />\n",
    "**(i)** Preproccess the [Dry Bean Dataset](https://archive.ics.uci.edu/dataset/602/dry+bean+dataset), similarly to what we have done for Titanic. You can find the description of the different features on the dataset webpage along with the instructions on how to import the data in a Python environment. You do not need to perform any exploratory data analysis for this dataset. <br />\n",
    "**(ii)** Train an additional neural model on the preprocessed data. Briefly report the key performance metrics for the model in your report. <br />\n",
    "**(iii)** Compute the runtimes required to produce the attribution scores for the different methods when considering the first 200 samples in the Titanic and Dry Bean test sets. Report the results in a table in your report. Which methods seem to be the most/least computationally efficient?"
   ]
  },
  {
   "cell_type": "markdown",
   "id": "509e2f6b",
   "metadata": {},
   "source": [
    "### Task 2.d.i - Preprocessing the dry bean dataset"
   ]
  },
  {
   "cell_type": "code",
   "execution_count": null,
   "id": "d411bc2f-3ece-4352-8e2f-66c771e5916e",
   "metadata": {},
   "outputs": [
    {
     "name": "stdout",
     "output_type": "stream",
     "text": [
      "Label Mapping: {'BARBUNYA': 0, 'BOMBAY': 1, 'CALI': 2, 'DERMASON': 3, 'HOROZ': 4, 'SEKER': 5, 'SIRA': 6}\n",
      "<class 'pandas.core.indexes.base.Index'>\n",
      "['Area', 'Perimeter', 'MajorAxisLength', 'MinorAxisLength', 'AspectRatio', 'Eccentricity', 'ConvexArea', 'EquivDiameter', 'Extent', 'Solidity', 'Roundness', 'Compactness', 'ShapeFactor1', 'ShapeFactor2', 'ShapeFactor3', 'ShapeFactor4']\n",
      "['num__pclass', 'num__age', 'num__sibsp', 'num__parch', 'num__fare', 'cat__sex_female', 'cat__sex_male']\n"
     ]
    },
    {
     "name": "stderr",
     "output_type": "stream",
     "text": [
      "/var/folders/3v/n0qzq7z56gj9ts7dnzkhpbr80000gn/T/ipykernel_52189/3563615225.py:22: SettingWithCopyWarning: \n",
      "A value is trying to be set on a copy of a slice from a DataFrame.\n",
      "Try using .loc[row_indexer,col_indexer] = value instead\n",
      "\n",
      "See the caveats in the documentation: https://pandas.pydata.org/pandas-docs/stable/user_guide/indexing.html#returning-a-view-versus-a-copy\n",
      "  y['Class'] = label_encoder.fit_transform(y['Class'])\n"
     ]
    }
   ],
   "source": [
    "# TODO: Your code and experiments here\n",
    "\n",
    "### PART 1 - Preprocessing the dataset\n",
    "from ucimlrepo import fetch_ucirepo \n",
    "from sklearn.model_selection import train_test_split\n",
    "from torcheval.metrics.functional import multiclass_f1_score, multiclass_accuracy\n",
    "from sklearn.preprocessing import StandardScaler\n",
    "\n",
    "### fetch dataset\n",
    "from torch.utils.data import TensorDataset, DataLoader\n",
    "dry_bean_dataset = fetch_ucirepo(id=602) \n",
    "  \n",
    "# data (as pandas dataframes) \n",
    "X = dry_bean_dataset.data.features\n",
    "y = dry_bean_dataset.data.targets \n",
    "\n",
    "# label encode the target variable (bean type)\n",
    "from sklearn.preprocessing import LabelEncoder\n",
    "\n",
    "variable_names = dry_bean_dataset.variables['name']\n",
    "label_encoder = LabelEncoder()\n",
    "y['Class'] = label_encoder.fit_transform(y['Class'])\n",
    "\n",
    "# Retrieve the mapping\n",
    "label_mapping = dict(zip(label_encoder.classes_, range(len(label_encoder.classes_))))\n",
    "# Print the mapping\n",
    "print(\"Label Mapping:\", label_mapping)\n",
    "\n",
    "# split the data into training and testing sets\n",
    "train_x, test_x, train_y, test_y = train_test_split(X, y, test_size=0.2, random_state=42)\n",
    "\n",
    "scaler = StandardScaler()\n",
    "train_x = pd.DataFrame(scaler.fit_transform(train_x), columns=train_x.columns)\n",
    "test_x = pd.DataFrame(scaler.transform(test_x), columns=test_x.columns)\n",
    "\n",
    "# convert training/test sets into dataloader objects\n",
    "batch_size = 128 # Define batch size\n",
    "\n",
    "for index, pair in enumerate([(train_x, train_y), (test_x, test_y)]):\n",
    "    x, y = pair\n",
    "    x = torch.tensor(x.values, dtype=torch.float)\n",
    "    y = torch.tensor(y.values, dtype=torch.long).squeeze()\n",
    "    combined_set = TensorDataset(x, y)\n",
    "    if index ==0:\n",
    "        dry_bean_train_dl = DataLoader(combined_set, batch_size=batch_size, shuffle=False)\n",
    "    else:\n",
    "        dry_bean_test_dl = DataLoader(combined_set, batch_size=batch_size, shuffle=False)\n",
    "\n",
    "\n",
    "## Testing... \n",
    "X = dry_bean_dataset.data.features\n",
    "print(type(X.columns))\n",
    "print(list(X.columns))\n",
    "\n",
    "titanic_train_set, titanic_test_set = TitanicDataset.create_datasets(test_size=0.2,split_seed=42)\n",
    "print(list(titanic_train_set.features))\n",
    "\n"
   ]
  },
  {
   "cell_type": "markdown",
   "id": "e16d839a",
   "metadata": {},
   "source": [
    "### Task 2.d.ii - Model training and evaluation"
   ]
  },
  {
   "cell_type": "code",
   "execution_count": null,
   "id": "35060619",
   "metadata": {},
   "outputs": [
    {
     "name": "stdout",
     "output_type": "stream",
     "text": [
      "———————[ Model training ]———————\n"
     ]
    },
    {
     "data": {
      "application/vnd.jupyter.widget-view+json": {
       "model_id": "ef111a701cce404688b7457ccb675a98",
       "version_major": 2,
       "version_minor": 0
      },
      "text/plain": [
       "  0%|          | 0/1000 [00:00<?, ?it/s]"
      ]
     },
     "metadata": {},
     "output_type": "display_data"
    },
    {
     "name": "stdout",
     "output_type": "stream",
     "text": [
      "Training completed!\n",
      "\n",
      "———————[ Evaluation ]———————\n",
      "F1 score: 0.93\n",
      "Accuracy: 0.93\n",
      "AUC: 0.81\n"
     ]
    }
   ],
   "source": [
    "### PART 2 - Model Training and Evaluation\n",
    "from joblib import dump, load\n",
    "\n",
    "# define neural network construction function\n",
    "def construct_dry_bean_nn(nn_dims, activation_fun):\n",
    "    \"\"\"\n",
    "    Constructs a neural network with the specified architecture.\n",
    "    \"\"\"\n",
    "    layers = []\n",
    "    for i in range(1, len(nn_dims)):\n",
    "        in_dim, out_dim = nn_dims[i-1], nn_dims[i]\n",
    "        layers.append(nn.Linear(in_dim, out_dim))\n",
    "        layers.append(activation_fun())\n",
    "    # Remove the last activation layer and add Softmax instead\n",
    "    layers = layers[:-1]\n",
    "    layers.append(nn.Softmax())\n",
    "    \n",
    "    return nn.Sequential(*layers).to(DEVICE)\n",
    "\n",
    "# define training function\n",
    "def train_dry_bean_nn(model, train_dl, num_epochs=100):\n",
    "    \"\"\"\n",
    "    Trains a neural network using the data from the provided data loader.\n",
    "    \"\"\"\n",
    "    loss_fun = nn.CrossEntropyLoss()\n",
    "    opt = torch.optim.AdamW(model.parameters(), lr=0.005)\n",
    "    model.train()\n",
    "    \n",
    "    losses = []\n",
    "    for epoch in tqdm(range(num_epochs), leave=False):\n",
    "        total_loss = 0\n",
    "        for i, (x, y) in list(enumerate(train_dl)):\n",
    "            x, y = x.to(DEVICE), y.to(DEVICE)\n",
    "            opt.zero_grad()\n",
    "            out = model(x)\n",
    "            loss = loss_fun(out.squeeze(-1), y.long())\n",
    "            total_loss += loss.item()\n",
    "            loss.backward()\n",
    "            opt.step()\n",
    "            opt.zero_grad()\n",
    "        losses.append(total_loss)\n",
    "\n",
    "# define evaluation function\n",
    "def eval_dry_bean_nn(model, x_test, y_test):\n",
    "    \"\"\"\n",
    "    Evaluates binary classification performance of a model on the given\n",
    "    test dataset\n",
    "    \"\"\"\n",
    "    model.eval()\n",
    "\n",
    "    loss_fun = nn.CrossEntropyLoss()\n",
    "    predictions = model(x_test.to(DEVICE))\n",
    "    labels = y_test.to(DEVICE)\n",
    "    loss = loss_fun(predictions, labels.long()).item()\n",
    "    \n",
    "    _, predictions = torch.max(predictions, 1)\n",
    "    f1 = multiclass_f1_score(labels, predictions).item()\n",
    "    accuracy = multiclass_accuracy(predictions, labels).item()\n",
    "\n",
    "    return loss, f1, accuracy, auc\n",
    "\n",
    "# print metric function\n",
    "def print_metric(name, value):\n",
    "    print(f\"{name}: {'{:.2f}'.format(round(value, 2))}\")\n",
    "\n",
    "# define the neural network model\n",
    "torch.manual_seed(42)\n",
    "np.random.seed(42)\n",
    "dry_bean_model = construct_dry_bean_nn([16, 256, 256, 7], nn.ReLU).to(DEVICE)\n",
    "\n",
    "# train the model\n",
    "print(\"———————[ Model training ]———————\")\n",
    "train_dry_bean_nn(dry_bean_model, dry_bean_train_dl, num_epochs=1000)\n",
    "print(\"Training completed!\")\n",
    "print()\n",
    "\n",
    "# save model\n",
    "dump(dry_bean_model, 'dry_bean_model.joblib')\n",
    "\n",
    "# evaluate the model\n",
    "print(\"———————[ Evaluation ]———————\")\n",
    "test_x_tensor = torch.tensor(test_x.values, dtype=torch.float)\n",
    "test_y_tensor = torch.tensor(test_y.to_numpy(), dtype=torch.float).squeeze()\n",
    "test_loss, f1, accuracy, auc = eval_dry_bean_nn(dry_bean_model, test_x_tensor, test_y_tensor)\n",
    "print_metric(\"F1 score\", f1)\n",
    "print_metric(\"Accuracy\", accuracy)\n",
    "print_metric(\"AUC\", auc)"
   ]
  },
  {
   "cell_type": "markdown",
   "id": "b1fe8d54",
   "metadata": {},
   "source": [
    "### Task 2.d.iii - Comparing runtimes"
   ]
  },
  {
   "cell_type": "code",
   "execution_count": 63,
   "id": "94c62661",
   "metadata": {},
   "outputs": [
    {
     "ename": "NameError",
     "evalue": "name 'test_x_tensor' is not defined",
     "output_type": "error",
     "traceback": [
      "\u001b[0;31m---------------------------------------------------------------------------\u001b[0m",
      "\u001b[0;31mNameError\u001b[0m                                 Traceback (most recent call last)",
      "Cell \u001b[0;32mIn[63], line 51\u001b[0m\n\u001b[1;32m     48\u001b[0m titanic_background_set \u001b[38;5;241m=\u001b[39m torch\u001b[38;5;241m.\u001b[39mcat((titanic_train_set\u001b[38;5;241m.\u001b[39msamples, titanic_test_set\u001b[38;5;241m.\u001b[39msamples), dim\u001b[38;5;241m=\u001b[39m\u001b[38;5;241m0\u001b[39m)\n\u001b[1;32m     50\u001b[0m \u001b[38;5;66;03m## Load Dry Bean dataset\u001b[39;00m\n\u001b[0;32m---> 51\u001b[0m dry_bean_test_set \u001b[38;5;241m=\u001b[39m \u001b[43mtest_x_tensor\u001b[49m\n\u001b[1;32m     52\u001b[0m dry_bean_dataset \u001b[38;5;241m=\u001b[39m fetch_ucirepo(\u001b[38;5;28mid\u001b[39m\u001b[38;5;241m=\u001b[39m\u001b[38;5;241m602\u001b[39m) \u001b[38;5;66;03m# data (as pandas dataframes) \u001b[39;00m\n\u001b[1;32m     53\u001b[0m X \u001b[38;5;241m=\u001b[39m dry_bean_dataset\u001b[38;5;241m.\u001b[39mdata\u001b[38;5;241m.\u001b[39mfeatures\n",
      "\u001b[0;31mNameError\u001b[0m: name 'test_x_tensor' is not defined"
     ]
    }
   ],
   "source": [
    "import time\n",
    "\n",
    "# define measure runtime function\n",
    "def measure_runtime(model, method, test_set, background_set, feature_mask):\n",
    "    if feature_mask == 'titanic':\n",
    "        current_feature_mask = [0, 1, 2, 3, 4, 5, 5]\n",
    "    elif feature_mask == 'dry_bean':\n",
    "        current_feature_mask = list(range(16))\n",
    "    start_time = time.time()\n",
    "    if method == 'custom':\n",
    "        # Replace with your custom method's implementation\n",
    "        attributes = shap_attribute(model, test_set, background_set, current_feature_mask)\n",
    "        \n",
    "    elif method == 'SVS':\n",
    "        svs = ShapleyValueSampling(model)\n",
    "        current_feature_mask = torch.tensor([current_feature_mask]).to(DEVICE)\n",
    "        attributes = svs.attribute(test_set.to(DEVICE), target=0, feature_mask=current_feature_mask) \n",
    "    elif method == 'DeepLift':\n",
    "        dl = DeepLift(model)\n",
    "        attributes = dl.attribute(test_set.to(DEVICE), target=0, baselines=torch.zeros_like(test_set).to(DEVICE))\n",
    "    end_time = time.time()\n",
    "    \n",
    "    print(f\"Runtime for {method} method: {end_time - start_time:.2f} seconds\")\n",
    "    \n",
    "    # calculate the average of absolute shap values\n",
    "    print(attributes)\n",
    "    mean_attributes = torch.mean(attributes.abs(), dim=0)\n",
    "\n",
    "    # plot the mean shap values\n",
    "    if feature_mask == 'titanic':\n",
    "        x_ticks = list(titanic_test_set.features)\n",
    "    elif feature_mask == 'dry_bean':\n",
    "        x_ticks = list(dry_bean_dataset.data.features.columns)\n",
    "        \n",
    "    plt.barh(x_ticks, mean_attributes.detach().numpy())\n",
    "    plt.title(f'Mean {method} Attributions')\n",
    "    plt.show()\n",
    "    plt.close()\n",
    "    \n",
    "    return end_time - start_time\n",
    "\n",
    "# Load models\n",
    "titanic_model = load('titanic_model.joblib')\n",
    "dry_bean_model = load('dry_bean_model.joblib')\n",
    "\n",
    "# Load Titanic dataset\n",
    "titanic_train_set, titanic_test_set = TitanicDataset.create_datasets(test_size=0.2,split_seed=42)\n",
    "titanic_background_set = torch.cat((titanic_train_set.samples, titanic_test_set.samples), dim=0)\n",
    "\n",
    "## Load Dry Bean dataset\n",
    "dry_bean_test_set = test_x_tensor\n",
    "dry_bean_dataset = fetch_ucirepo(id=602) # data (as pandas dataframes) \n",
    "X = dry_bean_dataset.data.features\n",
    "y = dry_bean_dataset.data.targets \n",
    "\n",
    "# label encode the target variable (bean type)\n",
    "variable_names = dry_bean_dataset.variables['name']\n",
    "label_encoder = LabelEncoder()\n",
    "y['Class'] = label_encoder.fit_transform(y['Class'])\n",
    "\n",
    "# split the data into training and testing sets\n",
    "_, test_x, _, test_y = train_test_split(X, y, test_size=0.2, random_state=42)\n",
    "scaler = StandardScaler()\n",
    "_ = pd.DataFrame(scaler.fit_transform(train_x), columns=train_x.columns)\n",
    "test_x = pd.DataFrame(scaler.transform(test_x), columns=test_x.columns)\n",
    "dry_bean_background_set = torch.tensor(X.values, dtype=torch.float)\n",
    "\n",
    "# Measure runtime for each method on Titanic dataset\n",
    "titanic_runtimes = {method: measure_runtime(titanic_model, method, titanic_test_set.samples[:200], titanic_background_set, feature_mask='titanic')\n",
    "                    for method in ['SVS', 'DeepLift', 'custom']}\n",
    "\n",
    "# Measure runtime for each method on Dry Bean dataset\n",
    "dry_bean_runtimes = {method: measure_runtime(dry_bean_model, method, dry_bean_test_set[:200], dry_bean_background_set, feature_mask='dry_bean')\n",
    "                     for method in ['SVS', 'DeepLift', 'custom']}\n",
    "\n",
    "# Convert the dictionary to a DataFrame\n",
    "titanic_runtimes = pd.DataFrame(list(titanic_runtimes.items()), columns=['Method', 'Runtime'])\n",
    "dry_bean_runtimes = pd.DataFrame(list(dry_bean_runtimes.items()), columns=['Method', 'Runtime'])\n",
    "\n",
    "# Save the DataFrame to a CSV file\n",
    "titanic_runtimes.to_csv('titanic_runtimes.csv', index=False)\n",
    "dry_bean_runtimes.to_csv('dry_bean_runtimes.csv', index=False)\n",
    "\n",
    "print(\"Titanic Runtimes:\", titanic_runtimes)\n",
    "print(\"Dry Bean Runtimes:\", dry_bean_runtimes)"
   ]
  },
  {
   "cell_type": "markdown",
   "id": "37ec783c-e350-473e-b3e1-140095ebed53",
   "metadata": {},
   "source": [
    "## Counterfactual Explanations"
   ]
  },
  {
   "cell_type": "markdown",
   "id": "5eb92884-22cd-46e4-824d-8354e35ce856",
   "metadata": {},
   "source": [
    "### Designing a Distance Metric"
   ]
  },
  {
   "cell_type": "markdown",
   "id": "128f2aac-ad49-4a47-a74a-21158879f06d",
   "metadata": {},
   "source": [
    "**Task 3(a)**: First, we need to specify a suitable distance metric for measuring the closeness between the points. Depending on the dataset, one could choose the standard distance functions like the Manhattan (L1) distance, Euclidean (L2) distance, and more specialised ones like Gower distance for better handling datasets with both categorical and continuous dataset. However, the design of distance metric can be very flexible. For example, the standard L1 distance is (k is the number of features) $$d_{L1}(x, x') = \\sum_{i}^{k} |x_i-x'_i|$$\n",
    "\n",
    "If the features have different value ranges, we could normalise the L1 distance with the maximum and minimum values of each feature (indexed $i$) in the training dataset, $max_i$, $min_i$ : $$d_{L1, normalised}(x, x') = \\sum_{i}^{k} |(x_i-x'_i)/(max_i-min_i)|$$\n",
    "\n",
    "On top of this, we could also add customised weighting factors $\\mathbf{w}=w_1, ..., w_k$ to capture the importance of each feature, and the weighted L1 distance is: $$d_{L1, normalised, weighted}(x, x') = \\sum_{i}^{k} w_i|(x_i-x'_i)/(max_i-min_i)|$$\n",
    "\n",
    "Given the background above, we want to design a distance function for the preprocessed version of our Titanic dataset. Explore the dataset characteristics and answer the following questions:\n",
    "**a)** Briefly discuss the weighting of each input variable in the preprocessed dataset, if we use standard L1 and normalised L1?\n",
    "**b)** If we want to treat each feature equally in the original unprocessed dataset, how would you design the distance metric for the preprocessed dataset using L1-based distance? Write down the detail of your distance function for the preprocessed dataset and justify why each original feature is treated equally.\n",
    "**c)** Implement your distance function below"
   ]
  },
  {
   "cell_type": "code",
   "execution_count": 14,
   "id": "2b077fa1-b082-438a-806b-119714ca33eb",
   "metadata": {},
   "outputs": [
    {
     "name": "stdout",
     "output_type": "stream",
     "text": [
      "Distance between the first two samples: 1.1499816179275513\n"
     ]
    }
   ],
   "source": [
    "# define the normalised L1 distance function (without weights to consider all features equally)\n",
    "def distance_function(x1, x2):\n",
    "    \"\"\"\n",
    "    Your distance function.\n",
    "\n",
    "    Parameters:\n",
    "        x1 (Tensor): A 1-d array of shape (k,)\n",
    "        x2 (Tensor): A 1-d array of shape (k,)\n",
    "\n",
    "    Returns:\n",
    "        distance (float): A real number >= 0\n",
    "    \"\"\"\n",
    "    \n",
    "    # calculate standard L1 distances\n",
    "    l1_diff = x1 - x2\n",
    "    \n",
    "    return l1_diff.abs().sum().item()"
   ]
  },
  {
   "cell_type": "markdown",
   "id": "b2005cc0",
   "metadata": {},
   "source": [
    "#### Test distance function"
   ]
  },
  {
   "cell_type": "code",
   "execution_count": null,
   "id": "5d028292",
   "metadata": {},
   "outputs": [],
   "source": [
    "# Establish entire titanic dataset\n",
    "total_dataset = torch.cat((train_dataset.samples, test_dataset.samples), dim=0)\n",
    "distance = distance_function(total_dataset[0], total_dataset[1])\n",
    "print(\"Distance between the first two samples:\", distance)"
   ]
  },
  {
   "cell_type": "markdown",
   "id": "df345ad0-6bdb-47b9-abf9-598c23a963c4",
   "metadata": {},
   "source": [
    "### Nearest-Neighbour Counterfactual Explanations (NNCE)\n",
    "\n",
    "**Task 3(b)**: As introduced in the tutorial, NNCEs are a simple yet effective method for finding counterfactuals. Implement the NNCE functions.\n",
    "\n",
    "Instructions:\n",
    "1. determine desired label for the counterfactual\n",
    "2. find the dataset points with desired label as predicted by the model\n",
    "3. find the point with the minimum distance and return it as NNCE"
   ]
  },
  {
   "cell_type": "code",
   "execution_count": 15,
   "id": "47409a30-fbad-4371-99d6-b87d30cd6590",
   "metadata": {},
   "outputs": [],
   "source": [
    "def compute_nnce(x, m, train_set, dist):\n",
    "    \"\"\"\n",
    "    Function to compute NNCE.\n",
    "\n",
    "    Parameters:\n",
    "        x (Tensor): Input, a 1-d array of shape (k,)\n",
    "        m (Sequential): Our neural network\n",
    "        train_set (TitanicDataset): Our Titanic dataset\n",
    "        dist (function): Your previously implemented distance function\n",
    "\n",
    "    Returns:\n",
    "        nnce (Tensor): Nearest neighbour counterfactual explanation, an 1-d array of shape (k,)\n",
    "    \"\"\"\n",
    "    # TODO: Your code here\n",
    "    # Evaluate the model on the input\n",
    "    m.eval()\n",
    "    with torch.no_grad():\n",
    "        x_tensor = torch.tensor(x, dtype=torch.float).unsqueeze(0)  # ensure the input is a tensor\n",
    "        prediction = m(x_tensor)\n",
    "    \n",
    "    # Determine the predicted class of the input tensor\n",
    "    predicted_class = prediction.round().item()\n",
    "\n",
    "    # Initialize variables to store the nearest neighbour and its distance\n",
    "    nearest_neighbour = None\n",
    "    min_distance = float('inf')\n",
    "    \n",
    "    # Iterate through the training dataset\n",
    "    for data, target in train_set:\n",
    "        \n",
    "        # predict the class of the current sample (checking CE validity)\n",
    "        with torch.no_grad():\n",
    "            ce_prediction = m(data)\n",
    "            ce_prediction = ce_prediction.round().item()\n",
    "            \n",
    "        # Skip data points in the same class\n",
    "        if ce_prediction == predicted_class:\n",
    "            continue\n",
    "        \n",
    "        # Compute distance between x and the current data point\n",
    "        current_distance = dist(x, data.numpy())\n",
    "\n",
    "        # Update nearest neighbour if the current one is closer\n",
    "        if current_distance < min_distance:\n",
    "            min_distance = current_distance\n",
    "            nearest_neighbour = data\n",
    "\n",
    "    return torch.Tensor(nearest_neighbour)  # Convert tensor to numpy array if needed"
   ]
  },
  {
   "cell_type": "markdown",
   "id": "82cd5bc4",
   "metadata": {},
   "source": [
    "#### Test NNCE function"
   ]
  },
  {
   "cell_type": "code",
   "execution_count": 17,
   "id": "07e25d4e-eb20-4a62-a468-64ce6834d6ad",
   "metadata": {},
   "outputs": [
    {
     "name": "stdout",
     "output_type": "stream",
     "text": [
      "tensor([ 0.0000,  0.2258,  0.0000,  0.0000, -0.1050,  0.0000,  1.0000])\n",
      "tensor([0.0066], grad_fn=<SigmoidBackward0>)\n",
      "tensor([0.5922], grad_fn=<SigmoidBackward0>)\n"
     ]
    },
    {
     "name": "stderr",
     "output_type": "stream",
     "text": [
      "/var/folders/3v/n0qzq7z56gj9ts7dnzkhpbr80000gn/T/ipykernel_55776/1218926781.py:18: UserWarning: To copy construct from a tensor, it is recommended to use sourceTensor.clone().detach() or sourceTensor.clone().detach().requires_grad_(True), rather than torch.tensor(sourceTensor).\n",
      "  x_tensor = torch.tensor(x, dtype=torch.float).unsqueeze(0)  # ensure the input is a tensor\n"
     ]
    }
   ],
   "source": [
    "# use this code block to test if your function is working\n",
    "\n",
    "# import the titanic model and dataset\n",
    "from joblib import load\n",
    "model = load('titanic_model.joblib')\n",
    "train_dataset, test_dataset = TitanicDataset.create_datasets(test_size=0.2, split_seed=42)\n",
    "\n",
    "# use this code block to test if your function is working\n",
    "# first print out the original input's prediction result\n",
    "test_input = test_dataset.samples.to(DEVICE)[0]\n",
    "print('Model prediction for the original input:')\n",
    "print(model(test_input))\n",
    "\n",
    "# now compute NNCE and print out the NNCE's prediction result. Ideally this is different from the result for the original input.\n",
    "nnce = compute_nnce(test_input, model, train_set=train_dataset, dist=distance_function)\n",
    "print('Model prediction for the NNCE:')\n",
    "print(model(nnce))"
   ]
  },
  {
   "cell_type": "markdown",
   "id": "a3c6290a-7c2b-4064-8ed0-3a4056bac9dc",
   "metadata": {},
   "source": [
    "### Gradient-Based Counterfactual Explanations\n",
    "\n",
    "**Task 3(c)**: Complete the PyTorch implementation for the gradient-based method in [Wachter et al. 2017]: WAC.\n",
    "\n",
    "Instructions:\n",
    "1. We are going to optimise the following loss function to find a counterfactual x': $  argmin_{x'} \\text{ } BCE(y', (1-y)) + \\lambda cost(x, x')$, where $BCE$ is binary cross entropy loss, $y'$ is the predicted label of $x'$, $y$ is the predicted label of $x$, $cost(,)$ is your chosen distance function in Task 1, and $\\lambda$ is the trade-off parameter between validity and proximity. First, implement your chosen distance metric in ```CostLoss.forward()```\n",
    "2. Follow the code structure in the ```compute_wac()``` function, complete the implementation.\n",
    "    2.1. specify the target label for the counterfactual\n",
    "    2.2. implement gradient descent procedures"
   ]
  },
  {
   "cell_type": "code",
   "execution_count": 18,
   "id": "aa6aae81-d6bb-4037-810d-198c00143334",
   "metadata": {},
   "outputs": [],
   "source": [
    "import torch.nn as nn\n",
    "\n",
    "class CostLoss(nn.Module):\n",
    "    def __init__(self, weight=None, size_average=True):\n",
    "        super(CostLoss, self).__init__()\n",
    "\n",
    "    def forward(self, x1, x2):\n",
    "        \"\"\"\n",
    "        The PyTorch version of your distance function\n",
    "\n",
    "        Parameters:\n",
    "            x1 (Tensor): A 1-d array of shape (k,)\n",
    "            x2 (Tensor): A 1-d array of shape (k,)\n",
    "\n",
    "        Returns:\n",
    "            distance (Tensor): a real number\n",
    "        \"\"\"\n",
    "        # TODO: Here is an example of standard L1 loss, replace it with your designed distance function in Task 1\n",
    "        dist = distance_function(x1, x2)\n",
    "        return dist"
   ]
  },
  {
   "cell_type": "code",
   "execution_count": 19,
   "id": "eb8ae1f7-8c47-4a71-a817-2f22d48a64b1",
   "metadata": {},
   "outputs": [],
   "source": [
    "from torch.autograd import Variable\n",
    "from torch.optim import Adam\n",
    "import datetime\n",
    "\n",
    "def compute_wac(x, m, lamb=0.1, lr=0.01, max_iter=1000, max_allowed_minutes=0.5):\n",
    "    \"\"\"\n",
    "    Function to find WAC using gradient descent.\n",
    "\n",
    "    Parameters:\n",
    "        x (Tensor): Input x, an 1-d array of shape (k,)\n",
    "        m (Sequential): PyTorch model\n",
    "        lamb (float): Lambda, the tradeoff term in the loss function\n",
    "        lr (float): Learning rate for gradient descent\n",
    "        max_iter (int): maximum allowed iteration\n",
    "        max_allowed_minutes (float): maximum allowed minutes\n",
    "\n",
    "    Returns:\n",
    "        counterfactual (Tensor): Counterfactual point, an 1-d array of shape (k,)\n",
    "    \"\"\"\n",
    "    # initialise the counterfactual search at the input point\n",
    "    x = x.to(DEVICE)\n",
    "    wac = Variable(x.clone(), requires_grad=True).to(DEVICE)\n",
    "\n",
    "    # initialise an optimiser for gradient descent over the wac counterfactual point\n",
    "    optimiser = Adam([wac], lr, amsgrad=True)\n",
    "\n",
    "    # instantiate the two components of the loss function\n",
    "    validity_loss = torch.nn.BCELoss()\n",
    "    cost_loss = CostLoss()\n",
    "\n",
    "    # TASK: specify target label y: either 0 or 1, depending on the original prediction\n",
    "    # TODO: Start your code here\n",
    "    with torch.no_grad():\n",
    "        output = m(x)\n",
    "        y = output.round().item()\n",
    "    y_prime = 1 - y\n",
    "    y_target = torch.Tensor([y_prime]).to(DEVICE)\n",
    "\n",
    "    # the total loss in the instructions: loss = validity_loss + lamb * cost_loss\n",
    "    # TODO: End your code here\n",
    "\n",
    "    # compute class probability\n",
    "    class_prob = m(wac)\n",
    "    wac_valid = False\n",
    "    iterations = 0\n",
    "    if y_target == 0 and class_prob < 0.5 or y_target == 1 and class_prob >= 0.5:\n",
    "        wac_valid = True\n",
    "\n",
    "    # set maximum allowed time for computing 1 counterfactual\n",
    "    t0 = datetime.datetime.now()\n",
    "    t_max = datetime.timedelta(minutes=max_allowed_minutes)\n",
    "    # start gradient descent\n",
    "    while not wac_valid or iterations <= max_iter:\n",
    "\n",
    "        # TASK: gradient descent to find wac\n",
    "        # TODO: Your code here\n",
    "        valid_loss = validity_loss(class_prob, y_target.float())\n",
    "        c_loss = cost_loss(wac, x)\n",
    "        total_loss = valid_loss + lamb * c_loss # WAC loss function\n",
    "        \n",
    "        optimiser.zero_grad()  \n",
    "        total_loss.backward()  \n",
    "        optimiser.step() \n",
    "        \n",
    "        class_prob = m(wac)\n",
    "\n",
    "        # break conditions: valid counterfactual found, or iterations exceeded, or reached allowed max time\n",
    "        if y_target == 0 and class_prob < 0.5 or y_target == 1 and class_prob >= 0.5:\n",
    "            wac_valid = True\n",
    "        if datetime.datetime.now() - t0 > t_max:\n",
    "            print(\"max time reached\")\n",
    "            break\n",
    "        iterations += 1\n",
    "\n",
    "    return wac"
   ]
  },
  {
   "cell_type": "code",
   "execution_count": 20,
   "id": "3730ddc2-6dbe-46a2-8bf3-e833800c52ef",
   "metadata": {},
   "outputs": [
    {
     "name": "stdout",
     "output_type": "stream",
     "text": [
      "tensor([0.0063], grad_fn=<SigmoidBackward0>)\n"
     ]
    },
    {
     "name": "stdout",
     "output_type": "stream",
     "text": [
      "tensor([0.9992], grad_fn=<SigmoidBackward0>)\n"
     ]
    }
   ],
   "source": [
    "# use this code block to test if your function is working\n",
    "# first print out the original input's prediction result\n",
    "test_input = test_dataset.samples.to(DEVICE)[1]\n",
    "print(model(test_input))\n",
    "\n",
    "# Establish entire titanic dataset\n",
    "titanic_train_set, titanic_test_set = TitanicDataset.create_datasets(test_size=0.2,split_seed=42)\n",
    "titanic_background_set = torch.cat((titanic_train_set.samples, titanic_test_set.samples), dim=0)\n",
    "\n",
    "# now compute WAC and print out the WAC's prediction result. Ideally this is different from the result for the original input.\n",
    "nnce = compute_wac(test_input, model)\n",
    "print(model(nnce))"
   ]
  },
  {
   "cell_type": "markdown",
   "id": "9fb7d395-b999-4100-85dd-7b5eed5c57d7",
   "metadata": {},
   "source": [
    "### Performance of the Two Methods\n",
    "\n",
    "**Task 3(d)**: In order to understand better how these two methods compare, we use the following metrics to quantitatively evaluate each of the methods:\n",
    "- Validity: percentage of the counterfactuals that are valid.\n",
    "- Proximity: average distance between the counterfactuals and the inputs. Smaller distance (lower cost) indicates better proximity.\n",
    "- Plausibility: average distance of a counterfactual to its 5 nearest neighbours in the training dataset, further averaged over all counterfactuals. The closer it is to the nearest neighbours, the more plausible. Consider this metric as a simplified version of Local Outlier Factor.\n",
    "\n",
    "For each counterfactual method, we randomly select 20 test inputs, generate counterfactuals for them, and compare the average performances for each of the metrics.\n",
    "We repeat this process for 5 times and calculate the mean and standard deviation of each metrics. We have provided code for these experiments. Complete the following codes for calculating the evaluation metrics:"
   ]
  },
  {
   "cell_type": "code",
   "execution_count": 21,
   "id": "4847e8d0-c76c-462d-a986-ccd2dc300e49",
   "metadata": {},
   "outputs": [],
   "source": [
    "def calculate_three_metrics_for_group_of_inputs(inputs, m, counterfactuals, train_set, dist):\n",
    "    validity, proximity, plausibility = 0, 0, 0\n",
    "    # examine validity, proximity, plausibility for each input-counterfactual pair\n",
    "    for i, x in enumerate(inputs):\n",
    "        ce = counterfactuals[i]\n",
    "\n",
    "        this_val = calculate_validity(x, ce, m)\n",
    "        this_prox = calculate_proximity(x, ce, dist=dist)\n",
    "        this_plaus = calculate_plausibility(ce, train_set, dist=dist)\n",
    "\n",
    "        validity += this_val\n",
    "        proximity += this_prox\n",
    "        plausibility += this_plaus\n",
    "\n",
    "    # average evaluation metrics over all the test inputs\n",
    "    validity = validity / len(inputs)\n",
    "    proximity = proximity / len(inputs)\n",
    "    plausibility = plausibility / len(inputs)\n",
    "    return validity, proximity, plausibility\n",
    "\n",
    "\n",
    "# TASK: for each input-counterfactual pair, calculate validity, proximity, and plausibility\n",
    "\n",
    "# check whether a counterfactual ce is valid or not\n",
    "def calculate_validity(x, ce, m):\n",
    "    # TODO: Your code here\n",
    "    m.eval()  # Set model to evaluation \n",
    "    with torch.no_grad():\n",
    "        \n",
    "        # Predictions for original input and counterfactual\n",
    "        pred_x = m(x).round().item()\n",
    "        pred_ce = m(ce).round().item()\n",
    "        \n",
    "    # Validity is true (1) if the predictions are different\n",
    "    return 1 if pred_x != pred_ce else 0\n",
    "\n",
    "\n",
    "# check the distance between a counterfactual and the input\n",
    "def calculate_proximity(x, ce, dist=distance_function):\n",
    "    # TODO: Your code here\n",
    "    distance = dist(x, ce)\n",
    "    return distance\n",
    "\n",
    "# calculate plausibility of a counterfactual\n",
    "def calculate_plausibility(ce, train_set, dist=distance_function):\n",
    "    # here, calculate the average distance between the counterfactual and its 5 nearest neighbours in the training dataset\n",
    "    \n",
    "    # TODO: Your code here\n",
    "    distances = []\n",
    "    for train_x, _ in train_set:\n",
    "        # Calculate distance from ce to this training point\n",
    "        distances.append(dist(ce, train_x))\n",
    "\n",
    "    # Sort the distances and take the 5 smallest\n",
    "    nearest_distances = sorted(distances)[:5]\n",
    "\n",
    "    # Calculate the average distance to the 5 nearest neighbours\n",
    "    return sum(nearest_distances) / len(nearest_distances)"
   ]
  },
  {
   "cell_type": "markdown",
   "id": "fd1cb9d3-cb0b-4473-b7d2-166e76032c61",
   "metadata": {},
   "source": [
    "Now we set up the experiments, compute counterfactuals using NNCE and WAC, then evaluate and compare their performances. Note that depending on your machine, the computation for ```compute_wac()``` could potentially be slow. You can also manually change the function's hyperparameters ```lamb=0.1, lr=0.01, max_iter=1000``` to try and see if WAC could give better results."
   ]
  },
  {
   "cell_type": "code",
   "execution_count": 34,
   "id": "9d10f578-a107-4fc5-8a33-246018d9b6c6",
   "metadata": {},
   "outputs": [
    {
     "data": {
      "application/vnd.jupyter.widget-view+json": {
       "model_id": "d0d551dd8f2149af854d1716eea138d8",
       "version_major": 2,
       "version_minor": 0
      },
      "text/plain": [
       "  0%|          | 0/5 [00:00<?, ?it/s]"
      ]
     },
     "metadata": {},
     "output_type": "display_data"
    },
    {
     "data": {
      "application/vnd.jupyter.widget-view+json": {
       "model_id": "9fe9ea17b8ba4a42adb3f2a61fe0d5ad",
       "version_major": 2,
       "version_minor": 0
      },
      "text/plain": [
       "  0%|          | 0/1 [00:00<?, ?it/s]"
      ]
     },
     "metadata": {},
     "output_type": "display_data"
    },
    {
     "data": {
      "application/vnd.jupyter.widget-view+json": {
       "model_id": "323547b34b974fcc91c3392e5b890ff9",
       "version_major": 2,
       "version_minor": 0
      },
      "text/plain": [
       "  0%|          | 0/20 [00:00<?, ?it/s]"
      ]
     },
     "metadata": {},
     "output_type": "display_data"
    },
    {
     "name": "stderr",
     "output_type": "stream",
     "text": [
      "/var/folders/3v/n0qzq7z56gj9ts7dnzkhpbr80000gn/T/ipykernel_55776/1218926781.py:18: UserWarning: To copy construct from a tensor, it is recommended to use sourceTensor.clone().detach() or sourceTensor.clone().detach().requires_grad_(True), rather than torch.tensor(sourceTensor).\n",
      "  x_tensor = torch.tensor(x, dtype=torch.float).unsqueeze(0)  # ensure the input is a tensor\n"
     ]
    },
    {
     "name": "stdout",
     "output_type": "stream",
     "text": [
      "max time reached\n",
      "max time reached\n",
      "max time reached\n"
     ]
    },
    {
     "data": {
      "application/vnd.jupyter.widget-view+json": {
       "model_id": "90bbf88022f54f5199ebe1f3e837df20",
       "version_major": 2,
       "version_minor": 0
      },
      "text/plain": [
       "  0%|          | 0/1 [00:00<?, ?it/s]"
      ]
     },
     "metadata": {},
     "output_type": "display_data"
    },
    {
     "data": {
      "application/vnd.jupyter.widget-view+json": {
       "model_id": "8a724c0e405043248755eafd36a9a672",
       "version_major": 2,
       "version_minor": 0
      },
      "text/plain": [
       "  0%|          | 0/20 [00:00<?, ?it/s]"
      ]
     },
     "metadata": {},
     "output_type": "display_data"
    },
    {
     "name": "stdout",
     "output_type": "stream",
     "text": [
      "max time reached\n",
      "max time reached\n"
     ]
    },
    {
     "data": {
      "application/vnd.jupyter.widget-view+json": {
       "model_id": "c0c40bbeaf2d498aafa73fca2f600cac",
       "version_major": 2,
       "version_minor": 0
      },
      "text/plain": [
       "  0%|          | 0/1 [00:00<?, ?it/s]"
      ]
     },
     "metadata": {},
     "output_type": "display_data"
    },
    {
     "data": {
      "application/vnd.jupyter.widget-view+json": {
       "model_id": "339362aca7f443d38d78e1c2238481b2",
       "version_major": 2,
       "version_minor": 0
      },
      "text/plain": [
       "  0%|          | 0/20 [00:00<?, ?it/s]"
      ]
     },
     "metadata": {},
     "output_type": "display_data"
    },
    {
     "data": {
      "application/vnd.jupyter.widget-view+json": {
       "model_id": "30d4a46b1ff44985aeda48f2b7bc7465",
       "version_major": 2,
       "version_minor": 0
      },
      "text/plain": [
       "  0%|          | 0/1 [00:00<?, ?it/s]"
      ]
     },
     "metadata": {},
     "output_type": "display_data"
    },
    {
     "data": {
      "application/vnd.jupyter.widget-view+json": {
       "model_id": "a29fe362f9574f66b36ba72d7a3d7dcc",
       "version_major": 2,
       "version_minor": 0
      },
      "text/plain": [
       "  0%|          | 0/20 [00:00<?, ?it/s]"
      ]
     },
     "metadata": {},
     "output_type": "display_data"
    },
    {
     "name": "stdout",
     "output_type": "stream",
     "text": [
      "max time reached\n",
      "max time reached\n",
      "max time reached\n"
     ]
    },
    {
     "data": {
      "application/vnd.jupyter.widget-view+json": {
       "model_id": "309cf40b89934e31b52a01209a46a403",
       "version_major": 2,
       "version_minor": 0
      },
      "text/plain": [
       "  0%|          | 0/1 [00:00<?, ?it/s]"
      ]
     },
     "metadata": {},
     "output_type": "display_data"
    },
    {
     "data": {
      "application/vnd.jupyter.widget-view+json": {
       "model_id": "12777c07c52b4f2ba621882d618d18d4",
       "version_major": 2,
       "version_minor": 0
      },
      "text/plain": [
       "  0%|          | 0/20 [00:00<?, ?it/s]"
      ]
     },
     "metadata": {},
     "output_type": "display_data"
    },
    {
     "name": "stdout",
     "output_type": "stream",
     "text": [
      "max time reached\n",
      "max time reached\n",
      "max time reached\n",
      "max time reached\n",
      "+----------+---------------+----------------+----------------+\n",
      "| method   | validity      | cost           | plausibility   |\n",
      "+==========+===============+================+================+\n",
      "| NNCE     | 1.0 +- 0.0    | 0.582 +- 0.054 | 0.146 +- 0.043 |\n",
      "| WAC      | 0.88 +- 0.068 | 0.274 +- 0.032 | 0.413 +- 0.054 |\n",
      "+----------+---------------+----------------+----------------+\n"
     ]
    }
   ],
   "source": [
    "train_dataset, test_dataset = TitanicDataset.create_datasets(test_size=0.2, split_seed=42)\n",
    "\n",
    "# we store the evaluation results of the five runs in lists\n",
    "nnce_validity, nnce_proximity, nnce_plausibility = [], [], []\n",
    "wac_validity, wac_proximity, wac_plausibility = [], [], []\n",
    "seed_num = 1000\n",
    "\n",
    "# repeat over 5 runs to obtain more robust evaluations\n",
    "for one_run in tqdm(range(5)):\n",
    "    # randomly select 20 test inputs\n",
    "    np.random.seed(seed_num)\n",
    "    test_inputs = test_dataset.samples[np.random.choice(range(len(test_dataset.samples)), 20)]\n",
    "    nnce_counterfactuals, wac_counterfactuals = [], []\n",
    "    # generate counterfactuals\n",
    "    with tqdm(total=1, position=0, leave=True) as pbar:\n",
    "        for x in tqdm(test_inputs, position=0, leave=True):\n",
    "            nnce_counterfactuals.append(compute_nnce(x, model, train_dataset, distance_function))\n",
    "            wac_counterfactuals.append(compute_wac(x, model,lamb=100, lr = 0.000005))\n",
    "            pbar.update()\n",
    "\n",
    "    # evaluate counterfactuals\n",
    "    nnvalidity, nnproximity, nnplausibility = calculate_three_metrics_for_group_of_inputs(test_inputs, model,\n",
    "                                                                                          nnce_counterfactuals,\n",
    "                                                                                          train_dataset,\n",
    "                                                                                          distance_function)\n",
    "    nnce_validity.append(nnvalidity)\n",
    "    nnce_proximity.append(nnproximity)\n",
    "    nnce_plausibility.append(nnplausibility)\n",
    "\n",
    "    wvalidity, wproximity, wplausibility = calculate_three_metrics_for_group_of_inputs(test_inputs, model,\n",
    "                                                                                       wac_counterfactuals,\n",
    "                                                                                       train_dataset, distance_function)\n",
    "    wac_validity.append(wvalidity)\n",
    "    wac_proximity.append(wproximity)\n",
    "    wac_plausibility.append(wplausibility)\n",
    "\n",
    "    seed_num += 10\n",
    "\n",
    "# now print out the results\n",
    "from tabulate import tabulate\n",
    "\n",
    "score_names = [\"method\", \"validity\", \"cost\", \"plausibility\"]\n",
    "score_table = [score_names,\n",
    "               [\"NNCE\", f\"{np.mean(nnce_validity).round(3)} +- {np.std(nnce_validity).round(3)}\",\n",
    "                f\"{np.mean(nnce_proximity).round(3)} +- {np.std(nnce_proximity).round(3)}\",\n",
    "                f\"{np.mean(nnce_plausibility).round(3)} +- {np.std(nnce_plausibility).round(3)}\"],\n",
    "               [\"WAC\", f\"{np.mean(wac_validity).round(3)} +- {np.std(wac_validity).round(3)}\",\n",
    "                f\"{np.mean(wac_proximity).round(3)} +- {np.std(wac_proximity).round(3)}\",\n",
    "                f\"{np.mean(wac_plausibility).round(3)} +- {np.std(wac_plausibility).round(3)}\"]]\n",
    "print(tabulate(score_table, headers='firstrow', tablefmt='outline'))"
   ]
  },
  {
   "cell_type": "markdown",
   "id": "2474358c-0c66-444a-b528-d4e99f1d4e78",
   "metadata": {},
   "source": [
    "### Performance Differences\n",
    "\n",
    "**Task 3(e)**: Discuss in your report commenting their performance based on the metrics. Link the findings to their theories."
   ]
  }
 ],
 "metadata": {
  "kernelspec": {
   "display_name": "Python 3 (ipykernel)",
   "language": "python",
   "name": "python3"
  },
  "language_info": {
   "codemirror_mode": {
    "name": "ipython",
    "version": 3
   },
   "file_extension": ".py",
   "mimetype": "text/x-python",
   "name": "python",
   "nbconvert_exporter": "python",
   "pygments_lexer": "ipython3",
   "version": "3.10.13"
  }
 },
 "nbformat": 4,
 "nbformat_minor": 5
}
